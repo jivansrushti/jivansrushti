{
  "nbformat": 4,
  "nbformat_minor": 0,
  "metadata": {
    "colab": {
      "provenance": []
    },
    "kernelspec": {
      "name": "python3",
      "display_name": "Python 3"
    },
    "language_info": {
      "name": "python"
    }
  },
  "cells": [
    {
      "cell_type": "markdown",
      "source": [
        "**1) Import required libraries**"
      ],
      "metadata": {
        "id": "1PRtSgBA6qAs"
      }
    },
    {
      "cell_type": "code",
      "execution_count": null,
      "metadata": {
        "id": "SgFm3-v36tS1"
      },
      "outputs": [],
      "source": [
        "#Import Libraries\n",
        "import pandas as pd\n",
        "import numpy as np\n",
        "import matplotlib.pyplot as plt\n",
        "import seaborn as sns\n",
        "%matplotlib inline\n",
        "from scipy.cluster.hierarchy import dendrogram, linkage"
      ]
    },
    {
      "cell_type": "markdown",
      "source": [
        "**2) Reading and Understanding Data**"
      ],
      "metadata": {
        "id": "G3lFqtg561qr"
      }
    },
    {
      "cell_type": "code",
      "source": [
        "data = pd.read_csv('/content/cars_class .csv')"
      ],
      "metadata": {
        "id": "eOb5bfolrThJ"
      },
      "execution_count": 17,
      "outputs": []
    },
    {
      "cell_type": "code",
      "source": [
        "data"
      ],
      "metadata": {
        "colab": {
          "base_uri": "https://localhost:8080/",
          "height": 487
        },
        "id": "vagQDCXjr2uA",
        "outputId": "253cf5e3-84e1-4dc5-93da-158c2b3b0248"
      },
      "execution_count": 18,
      "outputs": [
        {
          "output_type": "execute_result",
          "data": {
            "text/plain": [
              "      ID  Comp  Circ  D.Circ  Rad.Ra  Pr.Axis.Ra  Max.L.Ra  Scat.Ra  Elong  \\\n",
              "0      1    88    39      70     166          66         7      148     44   \n",
              "1      2    85    35      64     129          57         6      116     57   \n",
              "2      3    91    41      84     141          57         9      149     45   \n",
              "3      4   102    54      98     177          56        10      219     31   \n",
              "4      5    87    39      74     152          58         6      151     44   \n",
              "..   ...   ...   ...     ...     ...         ...       ...      ...    ...   \n",
              "714  715   111    58     105     183          51         6      265     26   \n",
              "715  716    93    43      76     149          57         7      149     44   \n",
              "716  717    90    42      63     144          59         7      131     50   \n",
              "717  718   101    56     101     231          72        10      217     31   \n",
              "718  719    99    38      74     184          66         6      164     39   \n",
              "\n",
              "     Pr.Axis.Rect  Max.L.Rect  Sc.Var.Maxis  Sc.Var.maxis  Ra.Gyr  Skew.Maxis  \\\n",
              "0              19         134           167           332     143          69   \n",
              "1              17         125           138           200     123          65   \n",
              "2              19         143           170           330     158          72   \n",
              "3              25         171           219           706     223          72   \n",
              "4              19         136           174           337     140          70   \n",
              "..            ...         ...           ...           ...     ...         ...   \n",
              "714            29         174           285          1018     255          85   \n",
              "715            19         143           172           335     176          69   \n",
              "716            18         142           154           259     162          65   \n",
              "717            24         171           232           698     216          72   \n",
              "718            20         131           193           414     137          71   \n",
              "\n",
              "     Skew.maxis  Kurt.maxis  Kurt.Maxis  Holl.Ra  Class  \n",
              "0             5          13         193      201      0  \n",
              "1             1          23         196      203      3  \n",
              "2             9          14         189      199      3  \n",
              "3             5          17         186      196      1  \n",
              "4             1          33         187      196      2  \n",
              "..          ...         ...         ...      ...    ...  \n",
              "714           4           8         181      183      0  \n",
              "715          14           0         189      194      2  \n",
              "716          15           3         197      204      3  \n",
              "717           2           6         187      197      2  \n",
              "718           2          22         200      202      0  \n",
              "\n",
              "[719 rows x 20 columns]"
            ],
            "text/html": [
              "\n",
              "  <div id=\"df-dc33d28e-88ab-4c13-9f97-6d576b8b5b37\">\n",
              "    <div class=\"colab-df-container\">\n",
              "      <div>\n",
              "<style scoped>\n",
              "    .dataframe tbody tr th:only-of-type {\n",
              "        vertical-align: middle;\n",
              "    }\n",
              "\n",
              "    .dataframe tbody tr th {\n",
              "        vertical-align: top;\n",
              "    }\n",
              "\n",
              "    .dataframe thead th {\n",
              "        text-align: right;\n",
              "    }\n",
              "</style>\n",
              "<table border=\"1\" class=\"dataframe\">\n",
              "  <thead>\n",
              "    <tr style=\"text-align: right;\">\n",
              "      <th></th>\n",
              "      <th>ID</th>\n",
              "      <th>Comp</th>\n",
              "      <th>Circ</th>\n",
              "      <th>D.Circ</th>\n",
              "      <th>Rad.Ra</th>\n",
              "      <th>Pr.Axis.Ra</th>\n",
              "      <th>Max.L.Ra</th>\n",
              "      <th>Scat.Ra</th>\n",
              "      <th>Elong</th>\n",
              "      <th>Pr.Axis.Rect</th>\n",
              "      <th>Max.L.Rect</th>\n",
              "      <th>Sc.Var.Maxis</th>\n",
              "      <th>Sc.Var.maxis</th>\n",
              "      <th>Ra.Gyr</th>\n",
              "      <th>Skew.Maxis</th>\n",
              "      <th>Skew.maxis</th>\n",
              "      <th>Kurt.maxis</th>\n",
              "      <th>Kurt.Maxis</th>\n",
              "      <th>Holl.Ra</th>\n",
              "      <th>Class</th>\n",
              "    </tr>\n",
              "  </thead>\n",
              "  <tbody>\n",
              "    <tr>\n",
              "      <th>0</th>\n",
              "      <td>1</td>\n",
              "      <td>88</td>\n",
              "      <td>39</td>\n",
              "      <td>70</td>\n",
              "      <td>166</td>\n",
              "      <td>66</td>\n",
              "      <td>7</td>\n",
              "      <td>148</td>\n",
              "      <td>44</td>\n",
              "      <td>19</td>\n",
              "      <td>134</td>\n",
              "      <td>167</td>\n",
              "      <td>332</td>\n",
              "      <td>143</td>\n",
              "      <td>69</td>\n",
              "      <td>5</td>\n",
              "      <td>13</td>\n",
              "      <td>193</td>\n",
              "      <td>201</td>\n",
              "      <td>0</td>\n",
              "    </tr>\n",
              "    <tr>\n",
              "      <th>1</th>\n",
              "      <td>2</td>\n",
              "      <td>85</td>\n",
              "      <td>35</td>\n",
              "      <td>64</td>\n",
              "      <td>129</td>\n",
              "      <td>57</td>\n",
              "      <td>6</td>\n",
              "      <td>116</td>\n",
              "      <td>57</td>\n",
              "      <td>17</td>\n",
              "      <td>125</td>\n",
              "      <td>138</td>\n",
              "      <td>200</td>\n",
              "      <td>123</td>\n",
              "      <td>65</td>\n",
              "      <td>1</td>\n",
              "      <td>23</td>\n",
              "      <td>196</td>\n",
              "      <td>203</td>\n",
              "      <td>3</td>\n",
              "    </tr>\n",
              "    <tr>\n",
              "      <th>2</th>\n",
              "      <td>3</td>\n",
              "      <td>91</td>\n",
              "      <td>41</td>\n",
              "      <td>84</td>\n",
              "      <td>141</td>\n",
              "      <td>57</td>\n",
              "      <td>9</td>\n",
              "      <td>149</td>\n",
              "      <td>45</td>\n",
              "      <td>19</td>\n",
              "      <td>143</td>\n",
              "      <td>170</td>\n",
              "      <td>330</td>\n",
              "      <td>158</td>\n",
              "      <td>72</td>\n",
              "      <td>9</td>\n",
              "      <td>14</td>\n",
              "      <td>189</td>\n",
              "      <td>199</td>\n",
              "      <td>3</td>\n",
              "    </tr>\n",
              "    <tr>\n",
              "      <th>3</th>\n",
              "      <td>4</td>\n",
              "      <td>102</td>\n",
              "      <td>54</td>\n",
              "      <td>98</td>\n",
              "      <td>177</td>\n",
              "      <td>56</td>\n",
              "      <td>10</td>\n",
              "      <td>219</td>\n",
              "      <td>31</td>\n",
              "      <td>25</td>\n",
              "      <td>171</td>\n",
              "      <td>219</td>\n",
              "      <td>706</td>\n",
              "      <td>223</td>\n",
              "      <td>72</td>\n",
              "      <td>5</td>\n",
              "      <td>17</td>\n",
              "      <td>186</td>\n",
              "      <td>196</td>\n",
              "      <td>1</td>\n",
              "    </tr>\n",
              "    <tr>\n",
              "      <th>4</th>\n",
              "      <td>5</td>\n",
              "      <td>87</td>\n",
              "      <td>39</td>\n",
              "      <td>74</td>\n",
              "      <td>152</td>\n",
              "      <td>58</td>\n",
              "      <td>6</td>\n",
              "      <td>151</td>\n",
              "      <td>44</td>\n",
              "      <td>19</td>\n",
              "      <td>136</td>\n",
              "      <td>174</td>\n",
              "      <td>337</td>\n",
              "      <td>140</td>\n",
              "      <td>70</td>\n",
              "      <td>1</td>\n",
              "      <td>33</td>\n",
              "      <td>187</td>\n",
              "      <td>196</td>\n",
              "      <td>2</td>\n",
              "    </tr>\n",
              "    <tr>\n",
              "      <th>...</th>\n",
              "      <td>...</td>\n",
              "      <td>...</td>\n",
              "      <td>...</td>\n",
              "      <td>...</td>\n",
              "      <td>...</td>\n",
              "      <td>...</td>\n",
              "      <td>...</td>\n",
              "      <td>...</td>\n",
              "      <td>...</td>\n",
              "      <td>...</td>\n",
              "      <td>...</td>\n",
              "      <td>...</td>\n",
              "      <td>...</td>\n",
              "      <td>...</td>\n",
              "      <td>...</td>\n",
              "      <td>...</td>\n",
              "      <td>...</td>\n",
              "      <td>...</td>\n",
              "      <td>...</td>\n",
              "      <td>...</td>\n",
              "    </tr>\n",
              "    <tr>\n",
              "      <th>714</th>\n",
              "      <td>715</td>\n",
              "      <td>111</td>\n",
              "      <td>58</td>\n",
              "      <td>105</td>\n",
              "      <td>183</td>\n",
              "      <td>51</td>\n",
              "      <td>6</td>\n",
              "      <td>265</td>\n",
              "      <td>26</td>\n",
              "      <td>29</td>\n",
              "      <td>174</td>\n",
              "      <td>285</td>\n",
              "      <td>1018</td>\n",
              "      <td>255</td>\n",
              "      <td>85</td>\n",
              "      <td>4</td>\n",
              "      <td>8</td>\n",
              "      <td>181</td>\n",
              "      <td>183</td>\n",
              "      <td>0</td>\n",
              "    </tr>\n",
              "    <tr>\n",
              "      <th>715</th>\n",
              "      <td>716</td>\n",
              "      <td>93</td>\n",
              "      <td>43</td>\n",
              "      <td>76</td>\n",
              "      <td>149</td>\n",
              "      <td>57</td>\n",
              "      <td>7</td>\n",
              "      <td>149</td>\n",
              "      <td>44</td>\n",
              "      <td>19</td>\n",
              "      <td>143</td>\n",
              "      <td>172</td>\n",
              "      <td>335</td>\n",
              "      <td>176</td>\n",
              "      <td>69</td>\n",
              "      <td>14</td>\n",
              "      <td>0</td>\n",
              "      <td>189</td>\n",
              "      <td>194</td>\n",
              "      <td>2</td>\n",
              "    </tr>\n",
              "    <tr>\n",
              "      <th>716</th>\n",
              "      <td>717</td>\n",
              "      <td>90</td>\n",
              "      <td>42</td>\n",
              "      <td>63</td>\n",
              "      <td>144</td>\n",
              "      <td>59</td>\n",
              "      <td>7</td>\n",
              "      <td>131</td>\n",
              "      <td>50</td>\n",
              "      <td>18</td>\n",
              "      <td>142</td>\n",
              "      <td>154</td>\n",
              "      <td>259</td>\n",
              "      <td>162</td>\n",
              "      <td>65</td>\n",
              "      <td>15</td>\n",
              "      <td>3</td>\n",
              "      <td>197</td>\n",
              "      <td>204</td>\n",
              "      <td>3</td>\n",
              "    </tr>\n",
              "    <tr>\n",
              "      <th>717</th>\n",
              "      <td>718</td>\n",
              "      <td>101</td>\n",
              "      <td>56</td>\n",
              "      <td>101</td>\n",
              "      <td>231</td>\n",
              "      <td>72</td>\n",
              "      <td>10</td>\n",
              "      <td>217</td>\n",
              "      <td>31</td>\n",
              "      <td>24</td>\n",
              "      <td>171</td>\n",
              "      <td>232</td>\n",
              "      <td>698</td>\n",
              "      <td>216</td>\n",
              "      <td>72</td>\n",
              "      <td>2</td>\n",
              "      <td>6</td>\n",
              "      <td>187</td>\n",
              "      <td>197</td>\n",
              "      <td>2</td>\n",
              "    </tr>\n",
              "    <tr>\n",
              "      <th>718</th>\n",
              "      <td>719</td>\n",
              "      <td>99</td>\n",
              "      <td>38</td>\n",
              "      <td>74</td>\n",
              "      <td>184</td>\n",
              "      <td>66</td>\n",
              "      <td>6</td>\n",
              "      <td>164</td>\n",
              "      <td>39</td>\n",
              "      <td>20</td>\n",
              "      <td>131</td>\n",
              "      <td>193</td>\n",
              "      <td>414</td>\n",
              "      <td>137</td>\n",
              "      <td>71</td>\n",
              "      <td>2</td>\n",
              "      <td>22</td>\n",
              "      <td>200</td>\n",
              "      <td>202</td>\n",
              "      <td>0</td>\n",
              "    </tr>\n",
              "  </tbody>\n",
              "</table>\n",
              "<p>719 rows × 20 columns</p>\n",
              "</div>\n",
              "      <button class=\"colab-df-convert\" onclick=\"convertToInteractive('df-dc33d28e-88ab-4c13-9f97-6d576b8b5b37')\"\n",
              "              title=\"Convert this dataframe to an interactive table.\"\n",
              "              style=\"display:none;\">\n",
              "        \n",
              "  <svg xmlns=\"http://www.w3.org/2000/svg\" height=\"24px\"viewBox=\"0 0 24 24\"\n",
              "       width=\"24px\">\n",
              "    <path d=\"M0 0h24v24H0V0z\" fill=\"none\"/>\n",
              "    <path d=\"M18.56 5.44l.94 2.06.94-2.06 2.06-.94-2.06-.94-.94-2.06-.94 2.06-2.06.94zm-11 1L8.5 8.5l.94-2.06 2.06-.94-2.06-.94L8.5 2.5l-.94 2.06-2.06.94zm10 10l.94 2.06.94-2.06 2.06-.94-2.06-.94-.94-2.06-.94 2.06-2.06.94z\"/><path d=\"M17.41 7.96l-1.37-1.37c-.4-.4-.92-.59-1.43-.59-.52 0-1.04.2-1.43.59L10.3 9.45l-7.72 7.72c-.78.78-.78 2.05 0 2.83L4 21.41c.39.39.9.59 1.41.59.51 0 1.02-.2 1.41-.59l7.78-7.78 2.81-2.81c.8-.78.8-2.07 0-2.86zM5.41 20L4 18.59l7.72-7.72 1.47 1.35L5.41 20z\"/>\n",
              "  </svg>\n",
              "      </button>\n",
              "      \n",
              "  <style>\n",
              "    .colab-df-container {\n",
              "      display:flex;\n",
              "      flex-wrap:wrap;\n",
              "      gap: 12px;\n",
              "    }\n",
              "\n",
              "    .colab-df-convert {\n",
              "      background-color: #E8F0FE;\n",
              "      border: none;\n",
              "      border-radius: 50%;\n",
              "      cursor: pointer;\n",
              "      display: none;\n",
              "      fill: #1967D2;\n",
              "      height: 32px;\n",
              "      padding: 0 0 0 0;\n",
              "      width: 32px;\n",
              "    }\n",
              "\n",
              "    .colab-df-convert:hover {\n",
              "      background-color: #E2EBFA;\n",
              "      box-shadow: 0px 1px 2px rgba(60, 64, 67, 0.3), 0px 1px 3px 1px rgba(60, 64, 67, 0.15);\n",
              "      fill: #174EA6;\n",
              "    }\n",
              "\n",
              "    [theme=dark] .colab-df-convert {\n",
              "      background-color: #3B4455;\n",
              "      fill: #D2E3FC;\n",
              "    }\n",
              "\n",
              "    [theme=dark] .colab-df-convert:hover {\n",
              "      background-color: #434B5C;\n",
              "      box-shadow: 0px 1px 3px 1px rgba(0, 0, 0, 0.15);\n",
              "      filter: drop-shadow(0px 1px 2px rgba(0, 0, 0, 0.3));\n",
              "      fill: #FFFFFF;\n",
              "    }\n",
              "  </style>\n",
              "\n",
              "      <script>\n",
              "        const buttonEl =\n",
              "          document.querySelector('#df-dc33d28e-88ab-4c13-9f97-6d576b8b5b37 button.colab-df-convert');\n",
              "        buttonEl.style.display =\n",
              "          google.colab.kernel.accessAllowed ? 'block' : 'none';\n",
              "\n",
              "        async function convertToInteractive(key) {\n",
              "          const element = document.querySelector('#df-dc33d28e-88ab-4c13-9f97-6d576b8b5b37');\n",
              "          const dataTable =\n",
              "            await google.colab.kernel.invokeFunction('convertToInteractive',\n",
              "                                                     [key], {});\n",
              "          if (!dataTable) return;\n",
              "\n",
              "          const docLinkHtml = 'Like what you see? Visit the ' +\n",
              "            '<a target=\"_blank\" href=https://colab.research.google.com/notebooks/data_table.ipynb>data table notebook</a>'\n",
              "            + ' to learn more about interactive tables.';\n",
              "          element.innerHTML = '';\n",
              "          dataTable['output_type'] = 'display_data';\n",
              "          await google.colab.output.renderOutput(dataTable, element);\n",
              "          const docLink = document.createElement('div');\n",
              "          docLink.innerHTML = docLinkHtml;\n",
              "          element.appendChild(docLink);\n",
              "        }\n",
              "      </script>\n",
              "    </div>\n",
              "  </div>\n",
              "  "
            ]
          },
          "metadata": {},
          "execution_count": 18
        }
      ]
    },
    {
      "cell_type": "code",
      "source": [
        "data.shape"
      ],
      "metadata": {
        "colab": {
          "base_uri": "https://localhost:8080/"
        },
        "id": "340guQNKr62W",
        "outputId": "35fb36ed-0c8e-4100-f24d-2df22004af56"
      },
      "execution_count": 19,
      "outputs": [
        {
          "output_type": "execute_result",
          "data": {
            "text/plain": [
              "(719, 20)"
            ]
          },
          "metadata": {},
          "execution_count": 19
        }
      ]
    },
    {
      "cell_type": "code",
      "source": [
        "data.describe()"
      ],
      "metadata": {
        "colab": {
          "base_uri": "https://localhost:8080/",
          "height": 364
        },
        "id": "RKh0sfZRr8Ys",
        "outputId": "0d59c231-7f71-4d28-a1a2-acdd67adc754"
      },
      "execution_count": 20,
      "outputs": [
        {
          "output_type": "execute_result",
          "data": {
            "text/plain": [
              "               ID        Comp        Circ      D.Circ      Rad.Ra  Pr.Axis.Ra  \\\n",
              "count  719.000000  719.000000  719.000000  719.000000  719.000000  719.000000   \n",
              "mean   360.000000   93.435327   44.851182   81.723227  168.579972   61.847010   \n",
              "std    207.701709    8.111406    6.150286   15.528208   33.809172    8.259136   \n",
              "min      1.000000   73.000000   33.000000   40.000000  105.000000   47.000000   \n",
              "25%    180.500000   87.000000   40.000000   70.000000  141.000000   57.000000   \n",
              "50%    360.000000   93.000000   44.000000   79.000000  166.000000   61.000000   \n",
              "75%    539.500000   99.000000   49.000000   96.000000  194.500000   65.000000   \n",
              "max    719.000000  119.000000   59.000000  110.000000  333.000000  138.000000   \n",
              "\n",
              "         Max.L.Ra     Scat.Ra       Elong  Pr.Axis.Rect  Max.L.Rect  \\\n",
              "count  719.000000  719.000000  719.000000    719.000000  719.000000   \n",
              "mean     8.625869  168.137691   41.075104     20.531293  148.030598   \n",
              "std      4.916908   32.937591    7.764459      2.560969   14.560092   \n",
              "min      2.000000  112.000000   26.000000     17.000000  118.000000   \n",
              "25%      6.000000  146.000000   33.000000     19.000000  137.000000   \n",
              "50%      8.000000  157.000000   43.000000     20.000000  146.000000   \n",
              "75%     10.000000  197.500000   46.000000     23.000000  159.000000   \n",
              "max     55.000000  265.000000   61.000000     29.000000  188.000000   \n",
              "\n",
              "       Sc.Var.Maxis  Sc.Var.maxis      Ra.Gyr  Skew.Maxis  Skew.maxis  \\\n",
              "count    719.000000    719.000000  719.000000  719.000000  719.000000   \n",
              "mean     188.168289    436.215577  174.726008   72.682893    6.343533   \n",
              "std       31.235395    174.964977   32.149568    7.542055    4.856169   \n",
              "min      130.000000    184.000000  109.000000   59.000000    0.000000   \n",
              "25%      167.000000    317.000000  149.000000   68.000000    2.000000   \n",
              "50%      178.000000    362.000000  174.000000   72.000000    6.000000   \n",
              "75%      216.000000    584.500000  198.000000   76.000000    9.000000   \n",
              "max      320.000000   1018.000000  262.000000  135.000000   22.000000   \n",
              "\n",
              "       Kurt.maxis  Kurt.Maxis     Holl.Ra       Class  \n",
              "count  719.000000  719.000000  719.000000  719.000000  \n",
              "mean    12.394993  188.798331  195.407510    1.470097  \n",
              "std      8.742511    6.048522    7.235166    1.126477  \n",
              "min      0.000000  176.000000  181.000000    0.000000  \n",
              "25%      5.500000  184.000000  190.000000    0.000000  \n",
              "50%     11.000000  188.000000  196.000000    1.000000  \n",
              "75%     18.000000  193.000000  201.000000    2.000000  \n",
              "max     41.000000  204.000000  211.000000    3.000000  "
            ],
            "text/html": [
              "\n",
              "  <div id=\"df-1c60153d-58ac-484c-91ed-ad25ecaea0af\">\n",
              "    <div class=\"colab-df-container\">\n",
              "      <div>\n",
              "<style scoped>\n",
              "    .dataframe tbody tr th:only-of-type {\n",
              "        vertical-align: middle;\n",
              "    }\n",
              "\n",
              "    .dataframe tbody tr th {\n",
              "        vertical-align: top;\n",
              "    }\n",
              "\n",
              "    .dataframe thead th {\n",
              "        text-align: right;\n",
              "    }\n",
              "</style>\n",
              "<table border=\"1\" class=\"dataframe\">\n",
              "  <thead>\n",
              "    <tr style=\"text-align: right;\">\n",
              "      <th></th>\n",
              "      <th>ID</th>\n",
              "      <th>Comp</th>\n",
              "      <th>Circ</th>\n",
              "      <th>D.Circ</th>\n",
              "      <th>Rad.Ra</th>\n",
              "      <th>Pr.Axis.Ra</th>\n",
              "      <th>Max.L.Ra</th>\n",
              "      <th>Scat.Ra</th>\n",
              "      <th>Elong</th>\n",
              "      <th>Pr.Axis.Rect</th>\n",
              "      <th>Max.L.Rect</th>\n",
              "      <th>Sc.Var.Maxis</th>\n",
              "      <th>Sc.Var.maxis</th>\n",
              "      <th>Ra.Gyr</th>\n",
              "      <th>Skew.Maxis</th>\n",
              "      <th>Skew.maxis</th>\n",
              "      <th>Kurt.maxis</th>\n",
              "      <th>Kurt.Maxis</th>\n",
              "      <th>Holl.Ra</th>\n",
              "      <th>Class</th>\n",
              "    </tr>\n",
              "  </thead>\n",
              "  <tbody>\n",
              "    <tr>\n",
              "      <th>count</th>\n",
              "      <td>719.000000</td>\n",
              "      <td>719.000000</td>\n",
              "      <td>719.000000</td>\n",
              "      <td>719.000000</td>\n",
              "      <td>719.000000</td>\n",
              "      <td>719.000000</td>\n",
              "      <td>719.000000</td>\n",
              "      <td>719.000000</td>\n",
              "      <td>719.000000</td>\n",
              "      <td>719.000000</td>\n",
              "      <td>719.000000</td>\n",
              "      <td>719.000000</td>\n",
              "      <td>719.000000</td>\n",
              "      <td>719.000000</td>\n",
              "      <td>719.000000</td>\n",
              "      <td>719.000000</td>\n",
              "      <td>719.000000</td>\n",
              "      <td>719.000000</td>\n",
              "      <td>719.000000</td>\n",
              "      <td>719.000000</td>\n",
              "    </tr>\n",
              "    <tr>\n",
              "      <th>mean</th>\n",
              "      <td>360.000000</td>\n",
              "      <td>93.435327</td>\n",
              "      <td>44.851182</td>\n",
              "      <td>81.723227</td>\n",
              "      <td>168.579972</td>\n",
              "      <td>61.847010</td>\n",
              "      <td>8.625869</td>\n",
              "      <td>168.137691</td>\n",
              "      <td>41.075104</td>\n",
              "      <td>20.531293</td>\n",
              "      <td>148.030598</td>\n",
              "      <td>188.168289</td>\n",
              "      <td>436.215577</td>\n",
              "      <td>174.726008</td>\n",
              "      <td>72.682893</td>\n",
              "      <td>6.343533</td>\n",
              "      <td>12.394993</td>\n",
              "      <td>188.798331</td>\n",
              "      <td>195.407510</td>\n",
              "      <td>1.470097</td>\n",
              "    </tr>\n",
              "    <tr>\n",
              "      <th>std</th>\n",
              "      <td>207.701709</td>\n",
              "      <td>8.111406</td>\n",
              "      <td>6.150286</td>\n",
              "      <td>15.528208</td>\n",
              "      <td>33.809172</td>\n",
              "      <td>8.259136</td>\n",
              "      <td>4.916908</td>\n",
              "      <td>32.937591</td>\n",
              "      <td>7.764459</td>\n",
              "      <td>2.560969</td>\n",
              "      <td>14.560092</td>\n",
              "      <td>31.235395</td>\n",
              "      <td>174.964977</td>\n",
              "      <td>32.149568</td>\n",
              "      <td>7.542055</td>\n",
              "      <td>4.856169</td>\n",
              "      <td>8.742511</td>\n",
              "      <td>6.048522</td>\n",
              "      <td>7.235166</td>\n",
              "      <td>1.126477</td>\n",
              "    </tr>\n",
              "    <tr>\n",
              "      <th>min</th>\n",
              "      <td>1.000000</td>\n",
              "      <td>73.000000</td>\n",
              "      <td>33.000000</td>\n",
              "      <td>40.000000</td>\n",
              "      <td>105.000000</td>\n",
              "      <td>47.000000</td>\n",
              "      <td>2.000000</td>\n",
              "      <td>112.000000</td>\n",
              "      <td>26.000000</td>\n",
              "      <td>17.000000</td>\n",
              "      <td>118.000000</td>\n",
              "      <td>130.000000</td>\n",
              "      <td>184.000000</td>\n",
              "      <td>109.000000</td>\n",
              "      <td>59.000000</td>\n",
              "      <td>0.000000</td>\n",
              "      <td>0.000000</td>\n",
              "      <td>176.000000</td>\n",
              "      <td>181.000000</td>\n",
              "      <td>0.000000</td>\n",
              "    </tr>\n",
              "    <tr>\n",
              "      <th>25%</th>\n",
              "      <td>180.500000</td>\n",
              "      <td>87.000000</td>\n",
              "      <td>40.000000</td>\n",
              "      <td>70.000000</td>\n",
              "      <td>141.000000</td>\n",
              "      <td>57.000000</td>\n",
              "      <td>6.000000</td>\n",
              "      <td>146.000000</td>\n",
              "      <td>33.000000</td>\n",
              "      <td>19.000000</td>\n",
              "      <td>137.000000</td>\n",
              "      <td>167.000000</td>\n",
              "      <td>317.000000</td>\n",
              "      <td>149.000000</td>\n",
              "      <td>68.000000</td>\n",
              "      <td>2.000000</td>\n",
              "      <td>5.500000</td>\n",
              "      <td>184.000000</td>\n",
              "      <td>190.000000</td>\n",
              "      <td>0.000000</td>\n",
              "    </tr>\n",
              "    <tr>\n",
              "      <th>50%</th>\n",
              "      <td>360.000000</td>\n",
              "      <td>93.000000</td>\n",
              "      <td>44.000000</td>\n",
              "      <td>79.000000</td>\n",
              "      <td>166.000000</td>\n",
              "      <td>61.000000</td>\n",
              "      <td>8.000000</td>\n",
              "      <td>157.000000</td>\n",
              "      <td>43.000000</td>\n",
              "      <td>20.000000</td>\n",
              "      <td>146.000000</td>\n",
              "      <td>178.000000</td>\n",
              "      <td>362.000000</td>\n",
              "      <td>174.000000</td>\n",
              "      <td>72.000000</td>\n",
              "      <td>6.000000</td>\n",
              "      <td>11.000000</td>\n",
              "      <td>188.000000</td>\n",
              "      <td>196.000000</td>\n",
              "      <td>1.000000</td>\n",
              "    </tr>\n",
              "    <tr>\n",
              "      <th>75%</th>\n",
              "      <td>539.500000</td>\n",
              "      <td>99.000000</td>\n",
              "      <td>49.000000</td>\n",
              "      <td>96.000000</td>\n",
              "      <td>194.500000</td>\n",
              "      <td>65.000000</td>\n",
              "      <td>10.000000</td>\n",
              "      <td>197.500000</td>\n",
              "      <td>46.000000</td>\n",
              "      <td>23.000000</td>\n",
              "      <td>159.000000</td>\n",
              "      <td>216.000000</td>\n",
              "      <td>584.500000</td>\n",
              "      <td>198.000000</td>\n",
              "      <td>76.000000</td>\n",
              "      <td>9.000000</td>\n",
              "      <td>18.000000</td>\n",
              "      <td>193.000000</td>\n",
              "      <td>201.000000</td>\n",
              "      <td>2.000000</td>\n",
              "    </tr>\n",
              "    <tr>\n",
              "      <th>max</th>\n",
              "      <td>719.000000</td>\n",
              "      <td>119.000000</td>\n",
              "      <td>59.000000</td>\n",
              "      <td>110.000000</td>\n",
              "      <td>333.000000</td>\n",
              "      <td>138.000000</td>\n",
              "      <td>55.000000</td>\n",
              "      <td>265.000000</td>\n",
              "      <td>61.000000</td>\n",
              "      <td>29.000000</td>\n",
              "      <td>188.000000</td>\n",
              "      <td>320.000000</td>\n",
              "      <td>1018.000000</td>\n",
              "      <td>262.000000</td>\n",
              "      <td>135.000000</td>\n",
              "      <td>22.000000</td>\n",
              "      <td>41.000000</td>\n",
              "      <td>204.000000</td>\n",
              "      <td>211.000000</td>\n",
              "      <td>3.000000</td>\n",
              "    </tr>\n",
              "  </tbody>\n",
              "</table>\n",
              "</div>\n",
              "      <button class=\"colab-df-convert\" onclick=\"convertToInteractive('df-1c60153d-58ac-484c-91ed-ad25ecaea0af')\"\n",
              "              title=\"Convert this dataframe to an interactive table.\"\n",
              "              style=\"display:none;\">\n",
              "        \n",
              "  <svg xmlns=\"http://www.w3.org/2000/svg\" height=\"24px\"viewBox=\"0 0 24 24\"\n",
              "       width=\"24px\">\n",
              "    <path d=\"M0 0h24v24H0V0z\" fill=\"none\"/>\n",
              "    <path d=\"M18.56 5.44l.94 2.06.94-2.06 2.06-.94-2.06-.94-.94-2.06-.94 2.06-2.06.94zm-11 1L8.5 8.5l.94-2.06 2.06-.94-2.06-.94L8.5 2.5l-.94 2.06-2.06.94zm10 10l.94 2.06.94-2.06 2.06-.94-2.06-.94-.94-2.06-.94 2.06-2.06.94z\"/><path d=\"M17.41 7.96l-1.37-1.37c-.4-.4-.92-.59-1.43-.59-.52 0-1.04.2-1.43.59L10.3 9.45l-7.72 7.72c-.78.78-.78 2.05 0 2.83L4 21.41c.39.39.9.59 1.41.59.51 0 1.02-.2 1.41-.59l7.78-7.78 2.81-2.81c.8-.78.8-2.07 0-2.86zM5.41 20L4 18.59l7.72-7.72 1.47 1.35L5.41 20z\"/>\n",
              "  </svg>\n",
              "      </button>\n",
              "      \n",
              "  <style>\n",
              "    .colab-df-container {\n",
              "      display:flex;\n",
              "      flex-wrap:wrap;\n",
              "      gap: 12px;\n",
              "    }\n",
              "\n",
              "    .colab-df-convert {\n",
              "      background-color: #E8F0FE;\n",
              "      border: none;\n",
              "      border-radius: 50%;\n",
              "      cursor: pointer;\n",
              "      display: none;\n",
              "      fill: #1967D2;\n",
              "      height: 32px;\n",
              "      padding: 0 0 0 0;\n",
              "      width: 32px;\n",
              "    }\n",
              "\n",
              "    .colab-df-convert:hover {\n",
              "      background-color: #E2EBFA;\n",
              "      box-shadow: 0px 1px 2px rgba(60, 64, 67, 0.3), 0px 1px 3px 1px rgba(60, 64, 67, 0.15);\n",
              "      fill: #174EA6;\n",
              "    }\n",
              "\n",
              "    [theme=dark] .colab-df-convert {\n",
              "      background-color: #3B4455;\n",
              "      fill: #D2E3FC;\n",
              "    }\n",
              "\n",
              "    [theme=dark] .colab-df-convert:hover {\n",
              "      background-color: #434B5C;\n",
              "      box-shadow: 0px 1px 3px 1px rgba(0, 0, 0, 0.15);\n",
              "      filter: drop-shadow(0px 1px 2px rgba(0, 0, 0, 0.3));\n",
              "      fill: #FFFFFF;\n",
              "    }\n",
              "  </style>\n",
              "\n",
              "      <script>\n",
              "        const buttonEl =\n",
              "          document.querySelector('#df-1c60153d-58ac-484c-91ed-ad25ecaea0af button.colab-df-convert');\n",
              "        buttonEl.style.display =\n",
              "          google.colab.kernel.accessAllowed ? 'block' : 'none';\n",
              "\n",
              "        async function convertToInteractive(key) {\n",
              "          const element = document.querySelector('#df-1c60153d-58ac-484c-91ed-ad25ecaea0af');\n",
              "          const dataTable =\n",
              "            await google.colab.kernel.invokeFunction('convertToInteractive',\n",
              "                                                     [key], {});\n",
              "          if (!dataTable) return;\n",
              "\n",
              "          const docLinkHtml = 'Like what you see? Visit the ' +\n",
              "            '<a target=\"_blank\" href=https://colab.research.google.com/notebooks/data_table.ipynb>data table notebook</a>'\n",
              "            + ' to learn more about interactive tables.';\n",
              "          element.innerHTML = '';\n",
              "          dataTable['output_type'] = 'display_data';\n",
              "          await google.colab.output.renderOutput(dataTable, element);\n",
              "          const docLink = document.createElement('div');\n",
              "          docLink.innerHTML = docLinkHtml;\n",
              "          element.appendChild(docLink);\n",
              "        }\n",
              "      </script>\n",
              "    </div>\n",
              "  </div>\n",
              "  "
            ]
          },
          "metadata": {},
          "execution_count": 20
        }
      ]
    },
    {
      "cell_type": "markdown",
      "source": [
        "**3) Data Preprocessing**"
      ],
      "metadata": {
        "id": "HuYJRBBf7ESD"
      }
    },
    {
      "cell_type": "code",
      "source": [
        "data = data.rename(columns = {'Comp': 'Compactness',\n",
        "                              'Circ': 'Circularity',\n",
        "                              'D.Circ': 'Distance Circularity',\n",
        "                              'Rad.Ra': 'Radius ratio',\n",
        "                              'Pr.Axis.Ra': 'pr.axis aspect rati', \n",
        "                              'Max.L.Ra': 'max.length aspect ratio',\n",
        "                              'Scat.Ra': 'scatter ratio',\n",
        "                              'Elong': 'elongatedness',\n",
        "                              'Pr.Axis.Rect': 'pr.axis rectangularity',\n",
        "                              'Max.L.Rect': 'max. length rectangularity',\n",
        "                              'Sc.Var.Maxis': 'scaled variance along major axis',                              'Sc.Var.maxis': 'scaled variance along minor axis',\n",
        "                              'Ra.Gyr' : 'scaled radius of gyration',\n",
        "                              'Skew.Maxis': 'skewness about major axis',\n",
        "                              'Skew.maxis': 'skewness about minor axis',\n",
        "                              'Kurt.maxis': 'kurtosis about minor axis',\n",
        "                              'Kurt.Maxis': 'kurtosis about major axis',\n",
        "                              'Holl.Ra': 'hollows ratio'})\n"
      ],
      "metadata": {
        "id": "szcVTDYssEji"
      },
      "execution_count": 23,
      "outputs": []
    },
    {
      "cell_type": "code",
      "source": [
        "data"
      ],
      "metadata": {
        "colab": {
          "base_uri": "https://localhost:8080/",
          "height": 557
        },
        "id": "UDHJTjSwvR_d",
        "outputId": "90b85669-df2f-4a30-d419-55de17e4179d"
      },
      "execution_count": 24,
      "outputs": [
        {
          "output_type": "execute_result",
          "data": {
            "text/plain": [
              "      ID  Compactness  Circularity  Distance Circularity  Radius ratio  \\\n",
              "0      1           88           39                    70           166   \n",
              "1      2           85           35                    64           129   \n",
              "2      3           91           41                    84           141   \n",
              "3      4          102           54                    98           177   \n",
              "4      5           87           39                    74           152   \n",
              "..   ...          ...          ...                   ...           ...   \n",
              "714  715          111           58                   105           183   \n",
              "715  716           93           43                    76           149   \n",
              "716  717           90           42                    63           144   \n",
              "717  718          101           56                   101           231   \n",
              "718  719           99           38                    74           184   \n",
              "\n",
              "     pr.axis aspect rati  max.length aspect ratio  scatter ratio  \\\n",
              "0                     66                        7            148   \n",
              "1                     57                        6            116   \n",
              "2                     57                        9            149   \n",
              "3                     56                       10            219   \n",
              "4                     58                        6            151   \n",
              "..                   ...                      ...            ...   \n",
              "714                   51                        6            265   \n",
              "715                   57                        7            149   \n",
              "716                   59                        7            131   \n",
              "717                   72                       10            217   \n",
              "718                   66                        6            164   \n",
              "\n",
              "     elongatedness  pr.axis rectangularity  max. length rectangularity  \\\n",
              "0               44                      19                         134   \n",
              "1               57                      17                         125   \n",
              "2               45                      19                         143   \n",
              "3               31                      25                         171   \n",
              "4               44                      19                         136   \n",
              "..             ...                     ...                         ...   \n",
              "714             26                      29                         174   \n",
              "715             44                      19                         143   \n",
              "716             50                      18                         142   \n",
              "717             31                      24                         171   \n",
              "718             39                      20                         131   \n",
              "\n",
              "     scaled variance along major axis  scaled variance along minor axis  \\\n",
              "0                                 167                               332   \n",
              "1                                 138                               200   \n",
              "2                                 170                               330   \n",
              "3                                 219                               706   \n",
              "4                                 174                               337   \n",
              "..                                ...                               ...   \n",
              "714                               285                              1018   \n",
              "715                               172                               335   \n",
              "716                               154                               259   \n",
              "717                               232                               698   \n",
              "718                               193                               414   \n",
              "\n",
              "     scaled radius of gyration  skewness about major axis  \\\n",
              "0                          143                         69   \n",
              "1                          123                         65   \n",
              "2                          158                         72   \n",
              "3                          223                         72   \n",
              "4                          140                         70   \n",
              "..                         ...                        ...   \n",
              "714                        255                         85   \n",
              "715                        176                         69   \n",
              "716                        162                         65   \n",
              "717                        216                         72   \n",
              "718                        137                         71   \n",
              "\n",
              "     skewness about minor axis  kurtosis about minor axis  \\\n",
              "0                            5                         13   \n",
              "1                            1                         23   \n",
              "2                            9                         14   \n",
              "3                            5                         17   \n",
              "4                            1                         33   \n",
              "..                         ...                        ...   \n",
              "714                          4                          8   \n",
              "715                         14                          0   \n",
              "716                         15                          3   \n",
              "717                          2                          6   \n",
              "718                          2                         22   \n",
              "\n",
              "     kurtosis about major axis  hollows ratio  Class  \n",
              "0                          193            201      0  \n",
              "1                          196            203      3  \n",
              "2                          189            199      3  \n",
              "3                          186            196      1  \n",
              "4                          187            196      2  \n",
              "..                         ...            ...    ...  \n",
              "714                        181            183      0  \n",
              "715                        189            194      2  \n",
              "716                        197            204      3  \n",
              "717                        187            197      2  \n",
              "718                        200            202      0  \n",
              "\n",
              "[719 rows x 20 columns]"
            ],
            "text/html": [
              "\n",
              "  <div id=\"df-ed8ca40c-0a46-450a-99ad-a37003f621f3\">\n",
              "    <div class=\"colab-df-container\">\n",
              "      <div>\n",
              "<style scoped>\n",
              "    .dataframe tbody tr th:only-of-type {\n",
              "        vertical-align: middle;\n",
              "    }\n",
              "\n",
              "    .dataframe tbody tr th {\n",
              "        vertical-align: top;\n",
              "    }\n",
              "\n",
              "    .dataframe thead th {\n",
              "        text-align: right;\n",
              "    }\n",
              "</style>\n",
              "<table border=\"1\" class=\"dataframe\">\n",
              "  <thead>\n",
              "    <tr style=\"text-align: right;\">\n",
              "      <th></th>\n",
              "      <th>ID</th>\n",
              "      <th>Compactness</th>\n",
              "      <th>Circularity</th>\n",
              "      <th>Distance Circularity</th>\n",
              "      <th>Radius ratio</th>\n",
              "      <th>pr.axis aspect rati</th>\n",
              "      <th>max.length aspect ratio</th>\n",
              "      <th>scatter ratio</th>\n",
              "      <th>elongatedness</th>\n",
              "      <th>pr.axis rectangularity</th>\n",
              "      <th>max. length rectangularity</th>\n",
              "      <th>scaled variance along major axis</th>\n",
              "      <th>scaled variance along minor axis</th>\n",
              "      <th>scaled radius of gyration</th>\n",
              "      <th>skewness about major axis</th>\n",
              "      <th>skewness about minor axis</th>\n",
              "      <th>kurtosis about minor axis</th>\n",
              "      <th>kurtosis about major axis</th>\n",
              "      <th>hollows ratio</th>\n",
              "      <th>Class</th>\n",
              "    </tr>\n",
              "  </thead>\n",
              "  <tbody>\n",
              "    <tr>\n",
              "      <th>0</th>\n",
              "      <td>1</td>\n",
              "      <td>88</td>\n",
              "      <td>39</td>\n",
              "      <td>70</td>\n",
              "      <td>166</td>\n",
              "      <td>66</td>\n",
              "      <td>7</td>\n",
              "      <td>148</td>\n",
              "      <td>44</td>\n",
              "      <td>19</td>\n",
              "      <td>134</td>\n",
              "      <td>167</td>\n",
              "      <td>332</td>\n",
              "      <td>143</td>\n",
              "      <td>69</td>\n",
              "      <td>5</td>\n",
              "      <td>13</td>\n",
              "      <td>193</td>\n",
              "      <td>201</td>\n",
              "      <td>0</td>\n",
              "    </tr>\n",
              "    <tr>\n",
              "      <th>1</th>\n",
              "      <td>2</td>\n",
              "      <td>85</td>\n",
              "      <td>35</td>\n",
              "      <td>64</td>\n",
              "      <td>129</td>\n",
              "      <td>57</td>\n",
              "      <td>6</td>\n",
              "      <td>116</td>\n",
              "      <td>57</td>\n",
              "      <td>17</td>\n",
              "      <td>125</td>\n",
              "      <td>138</td>\n",
              "      <td>200</td>\n",
              "      <td>123</td>\n",
              "      <td>65</td>\n",
              "      <td>1</td>\n",
              "      <td>23</td>\n",
              "      <td>196</td>\n",
              "      <td>203</td>\n",
              "      <td>3</td>\n",
              "    </tr>\n",
              "    <tr>\n",
              "      <th>2</th>\n",
              "      <td>3</td>\n",
              "      <td>91</td>\n",
              "      <td>41</td>\n",
              "      <td>84</td>\n",
              "      <td>141</td>\n",
              "      <td>57</td>\n",
              "      <td>9</td>\n",
              "      <td>149</td>\n",
              "      <td>45</td>\n",
              "      <td>19</td>\n",
              "      <td>143</td>\n",
              "      <td>170</td>\n",
              "      <td>330</td>\n",
              "      <td>158</td>\n",
              "      <td>72</td>\n",
              "      <td>9</td>\n",
              "      <td>14</td>\n",
              "      <td>189</td>\n",
              "      <td>199</td>\n",
              "      <td>3</td>\n",
              "    </tr>\n",
              "    <tr>\n",
              "      <th>3</th>\n",
              "      <td>4</td>\n",
              "      <td>102</td>\n",
              "      <td>54</td>\n",
              "      <td>98</td>\n",
              "      <td>177</td>\n",
              "      <td>56</td>\n",
              "      <td>10</td>\n",
              "      <td>219</td>\n",
              "      <td>31</td>\n",
              "      <td>25</td>\n",
              "      <td>171</td>\n",
              "      <td>219</td>\n",
              "      <td>706</td>\n",
              "      <td>223</td>\n",
              "      <td>72</td>\n",
              "      <td>5</td>\n",
              "      <td>17</td>\n",
              "      <td>186</td>\n",
              "      <td>196</td>\n",
              "      <td>1</td>\n",
              "    </tr>\n",
              "    <tr>\n",
              "      <th>4</th>\n",
              "      <td>5</td>\n",
              "      <td>87</td>\n",
              "      <td>39</td>\n",
              "      <td>74</td>\n",
              "      <td>152</td>\n",
              "      <td>58</td>\n",
              "      <td>6</td>\n",
              "      <td>151</td>\n",
              "      <td>44</td>\n",
              "      <td>19</td>\n",
              "      <td>136</td>\n",
              "      <td>174</td>\n",
              "      <td>337</td>\n",
              "      <td>140</td>\n",
              "      <td>70</td>\n",
              "      <td>1</td>\n",
              "      <td>33</td>\n",
              "      <td>187</td>\n",
              "      <td>196</td>\n",
              "      <td>2</td>\n",
              "    </tr>\n",
              "    <tr>\n",
              "      <th>...</th>\n",
              "      <td>...</td>\n",
              "      <td>...</td>\n",
              "      <td>...</td>\n",
              "      <td>...</td>\n",
              "      <td>...</td>\n",
              "      <td>...</td>\n",
              "      <td>...</td>\n",
              "      <td>...</td>\n",
              "      <td>...</td>\n",
              "      <td>...</td>\n",
              "      <td>...</td>\n",
              "      <td>...</td>\n",
              "      <td>...</td>\n",
              "      <td>...</td>\n",
              "      <td>...</td>\n",
              "      <td>...</td>\n",
              "      <td>...</td>\n",
              "      <td>...</td>\n",
              "      <td>...</td>\n",
              "      <td>...</td>\n",
              "    </tr>\n",
              "    <tr>\n",
              "      <th>714</th>\n",
              "      <td>715</td>\n",
              "      <td>111</td>\n",
              "      <td>58</td>\n",
              "      <td>105</td>\n",
              "      <td>183</td>\n",
              "      <td>51</td>\n",
              "      <td>6</td>\n",
              "      <td>265</td>\n",
              "      <td>26</td>\n",
              "      <td>29</td>\n",
              "      <td>174</td>\n",
              "      <td>285</td>\n",
              "      <td>1018</td>\n",
              "      <td>255</td>\n",
              "      <td>85</td>\n",
              "      <td>4</td>\n",
              "      <td>8</td>\n",
              "      <td>181</td>\n",
              "      <td>183</td>\n",
              "      <td>0</td>\n",
              "    </tr>\n",
              "    <tr>\n",
              "      <th>715</th>\n",
              "      <td>716</td>\n",
              "      <td>93</td>\n",
              "      <td>43</td>\n",
              "      <td>76</td>\n",
              "      <td>149</td>\n",
              "      <td>57</td>\n",
              "      <td>7</td>\n",
              "      <td>149</td>\n",
              "      <td>44</td>\n",
              "      <td>19</td>\n",
              "      <td>143</td>\n",
              "      <td>172</td>\n",
              "      <td>335</td>\n",
              "      <td>176</td>\n",
              "      <td>69</td>\n",
              "      <td>14</td>\n",
              "      <td>0</td>\n",
              "      <td>189</td>\n",
              "      <td>194</td>\n",
              "      <td>2</td>\n",
              "    </tr>\n",
              "    <tr>\n",
              "      <th>716</th>\n",
              "      <td>717</td>\n",
              "      <td>90</td>\n",
              "      <td>42</td>\n",
              "      <td>63</td>\n",
              "      <td>144</td>\n",
              "      <td>59</td>\n",
              "      <td>7</td>\n",
              "      <td>131</td>\n",
              "      <td>50</td>\n",
              "      <td>18</td>\n",
              "      <td>142</td>\n",
              "      <td>154</td>\n",
              "      <td>259</td>\n",
              "      <td>162</td>\n",
              "      <td>65</td>\n",
              "      <td>15</td>\n",
              "      <td>3</td>\n",
              "      <td>197</td>\n",
              "      <td>204</td>\n",
              "      <td>3</td>\n",
              "    </tr>\n",
              "    <tr>\n",
              "      <th>717</th>\n",
              "      <td>718</td>\n",
              "      <td>101</td>\n",
              "      <td>56</td>\n",
              "      <td>101</td>\n",
              "      <td>231</td>\n",
              "      <td>72</td>\n",
              "      <td>10</td>\n",
              "      <td>217</td>\n",
              "      <td>31</td>\n",
              "      <td>24</td>\n",
              "      <td>171</td>\n",
              "      <td>232</td>\n",
              "      <td>698</td>\n",
              "      <td>216</td>\n",
              "      <td>72</td>\n",
              "      <td>2</td>\n",
              "      <td>6</td>\n",
              "      <td>187</td>\n",
              "      <td>197</td>\n",
              "      <td>2</td>\n",
              "    </tr>\n",
              "    <tr>\n",
              "      <th>718</th>\n",
              "      <td>719</td>\n",
              "      <td>99</td>\n",
              "      <td>38</td>\n",
              "      <td>74</td>\n",
              "      <td>184</td>\n",
              "      <td>66</td>\n",
              "      <td>6</td>\n",
              "      <td>164</td>\n",
              "      <td>39</td>\n",
              "      <td>20</td>\n",
              "      <td>131</td>\n",
              "      <td>193</td>\n",
              "      <td>414</td>\n",
              "      <td>137</td>\n",
              "      <td>71</td>\n",
              "      <td>2</td>\n",
              "      <td>22</td>\n",
              "      <td>200</td>\n",
              "      <td>202</td>\n",
              "      <td>0</td>\n",
              "    </tr>\n",
              "  </tbody>\n",
              "</table>\n",
              "<p>719 rows × 20 columns</p>\n",
              "</div>\n",
              "      <button class=\"colab-df-convert\" onclick=\"convertToInteractive('df-ed8ca40c-0a46-450a-99ad-a37003f621f3')\"\n",
              "              title=\"Convert this dataframe to an interactive table.\"\n",
              "              style=\"display:none;\">\n",
              "        \n",
              "  <svg xmlns=\"http://www.w3.org/2000/svg\" height=\"24px\"viewBox=\"0 0 24 24\"\n",
              "       width=\"24px\">\n",
              "    <path d=\"M0 0h24v24H0V0z\" fill=\"none\"/>\n",
              "    <path d=\"M18.56 5.44l.94 2.06.94-2.06 2.06-.94-2.06-.94-.94-2.06-.94 2.06-2.06.94zm-11 1L8.5 8.5l.94-2.06 2.06-.94-2.06-.94L8.5 2.5l-.94 2.06-2.06.94zm10 10l.94 2.06.94-2.06 2.06-.94-2.06-.94-.94-2.06-.94 2.06-2.06.94z\"/><path d=\"M17.41 7.96l-1.37-1.37c-.4-.4-.92-.59-1.43-.59-.52 0-1.04.2-1.43.59L10.3 9.45l-7.72 7.72c-.78.78-.78 2.05 0 2.83L4 21.41c.39.39.9.59 1.41.59.51 0 1.02-.2 1.41-.59l7.78-7.78 2.81-2.81c.8-.78.8-2.07 0-2.86zM5.41 20L4 18.59l7.72-7.72 1.47 1.35L5.41 20z\"/>\n",
              "  </svg>\n",
              "      </button>\n",
              "      \n",
              "  <style>\n",
              "    .colab-df-container {\n",
              "      display:flex;\n",
              "      flex-wrap:wrap;\n",
              "      gap: 12px;\n",
              "    }\n",
              "\n",
              "    .colab-df-convert {\n",
              "      background-color: #E8F0FE;\n",
              "      border: none;\n",
              "      border-radius: 50%;\n",
              "      cursor: pointer;\n",
              "      display: none;\n",
              "      fill: #1967D2;\n",
              "      height: 32px;\n",
              "      padding: 0 0 0 0;\n",
              "      width: 32px;\n",
              "    }\n",
              "\n",
              "    .colab-df-convert:hover {\n",
              "      background-color: #E2EBFA;\n",
              "      box-shadow: 0px 1px 2px rgba(60, 64, 67, 0.3), 0px 1px 3px 1px rgba(60, 64, 67, 0.15);\n",
              "      fill: #174EA6;\n",
              "    }\n",
              "\n",
              "    [theme=dark] .colab-df-convert {\n",
              "      background-color: #3B4455;\n",
              "      fill: #D2E3FC;\n",
              "    }\n",
              "\n",
              "    [theme=dark] .colab-df-convert:hover {\n",
              "      background-color: #434B5C;\n",
              "      box-shadow: 0px 1px 3px 1px rgba(0, 0, 0, 0.15);\n",
              "      filter: drop-shadow(0px 1px 2px rgba(0, 0, 0, 0.3));\n",
              "      fill: #FFFFFF;\n",
              "    }\n",
              "  </style>\n",
              "\n",
              "      <script>\n",
              "        const buttonEl =\n",
              "          document.querySelector('#df-ed8ca40c-0a46-450a-99ad-a37003f621f3 button.colab-df-convert');\n",
              "        buttonEl.style.display =\n",
              "          google.colab.kernel.accessAllowed ? 'block' : 'none';\n",
              "\n",
              "        async function convertToInteractive(key) {\n",
              "          const element = document.querySelector('#df-ed8ca40c-0a46-450a-99ad-a37003f621f3');\n",
              "          const dataTable =\n",
              "            await google.colab.kernel.invokeFunction('convertToInteractive',\n",
              "                                                     [key], {});\n",
              "          if (!dataTable) return;\n",
              "\n",
              "          const docLinkHtml = 'Like what you see? Visit the ' +\n",
              "            '<a target=\"_blank\" href=https://colab.research.google.com/notebooks/data_table.ipynb>data table notebook</a>'\n",
              "            + ' to learn more about interactive tables.';\n",
              "          element.innerHTML = '';\n",
              "          dataTable['output_type'] = 'display_data';\n",
              "          await google.colab.output.renderOutput(dataTable, element);\n",
              "          const docLink = document.createElement('div');\n",
              "          docLink.innerHTML = docLinkHtml;\n",
              "          element.appendChild(docLink);\n",
              "        }\n",
              "      </script>\n",
              "    </div>\n",
              "  </div>\n",
              "  "
            ]
          },
          "metadata": {},
          "execution_count": 24
        }
      ]
    },
    {
      "cell_type": "code",
      "source": [
        "data.isnull()"
      ],
      "metadata": {
        "colab": {
          "base_uri": "https://localhost:8080/",
          "height": 557
        },
        "id": "NOXmnjDR0KyB",
        "outputId": "8fd66754-f009-4513-d827-3329708ce8c6"
      },
      "execution_count": 65,
      "outputs": [
        {
          "output_type": "execute_result",
          "data": {
            "text/plain": [
              "        ID  Compactness  Circularity  Distance Circularity  Radius ratio  \\\n",
              "0    False        False        False                 False         False   \n",
              "1    False        False        False                 False         False   \n",
              "2    False        False        False                 False         False   \n",
              "3    False        False        False                 False         False   \n",
              "4    False        False        False                 False         False   \n",
              "..     ...          ...          ...                   ...           ...   \n",
              "714  False        False        False                 False         False   \n",
              "715  False        False        False                 False         False   \n",
              "716  False        False        False                 False         False   \n",
              "717  False        False        False                 False         False   \n",
              "718  False        False        False                 False         False   \n",
              "\n",
              "     pr.axis aspect rati  max.length aspect ratio  scatter ratio  \\\n",
              "0                  False                    False          False   \n",
              "1                  False                    False          False   \n",
              "2                  False                    False          False   \n",
              "3                  False                    False          False   \n",
              "4                  False                    False          False   \n",
              "..                   ...                      ...            ...   \n",
              "714                False                    False          False   \n",
              "715                False                    False          False   \n",
              "716                False                    False          False   \n",
              "717                False                    False          False   \n",
              "718                False                    False          False   \n",
              "\n",
              "     elongatedness  pr.axis rectangularity  max. length rectangularity  \\\n",
              "0            False                   False                       False   \n",
              "1            False                   False                       False   \n",
              "2            False                   False                       False   \n",
              "3            False                   False                       False   \n",
              "4            False                   False                       False   \n",
              "..             ...                     ...                         ...   \n",
              "714          False                   False                       False   \n",
              "715          False                   False                       False   \n",
              "716          False                   False                       False   \n",
              "717          False                   False                       False   \n",
              "718          False                   False                       False   \n",
              "\n",
              "     scaled variance along major axis  scaled variance along minor axis  \\\n",
              "0                               False                             False   \n",
              "1                               False                             False   \n",
              "2                               False                             False   \n",
              "3                               False                             False   \n",
              "4                               False                             False   \n",
              "..                                ...                               ...   \n",
              "714                             False                             False   \n",
              "715                             False                             False   \n",
              "716                             False                             False   \n",
              "717                             False                             False   \n",
              "718                             False                             False   \n",
              "\n",
              "     scaled radius of gyration  skewness about major axis  \\\n",
              "0                        False                      False   \n",
              "1                        False                      False   \n",
              "2                        False                      False   \n",
              "3                        False                      False   \n",
              "4                        False                      False   \n",
              "..                         ...                        ...   \n",
              "714                      False                      False   \n",
              "715                      False                      False   \n",
              "716                      False                      False   \n",
              "717                      False                      False   \n",
              "718                      False                      False   \n",
              "\n",
              "     skewness about minor axis  kurtosis about minor axis  \\\n",
              "0                        False                      False   \n",
              "1                        False                      False   \n",
              "2                        False                      False   \n",
              "3                        False                      False   \n",
              "4                        False                      False   \n",
              "..                         ...                        ...   \n",
              "714                      False                      False   \n",
              "715                      False                      False   \n",
              "716                      False                      False   \n",
              "717                      False                      False   \n",
              "718                      False                      False   \n",
              "\n",
              "     kurtosis about major axis  hollows ratio  Class  \n",
              "0                        False          False  False  \n",
              "1                        False          False  False  \n",
              "2                        False          False  False  \n",
              "3                        False          False  False  \n",
              "4                        False          False  False  \n",
              "..                         ...            ...    ...  \n",
              "714                      False          False  False  \n",
              "715                      False          False  False  \n",
              "716                      False          False  False  \n",
              "717                      False          False  False  \n",
              "718                      False          False  False  \n",
              "\n",
              "[719 rows x 20 columns]"
            ],
            "text/html": [
              "\n",
              "  <div id=\"df-b3630afd-00e8-4168-a7e9-6cf3007cbe36\">\n",
              "    <div class=\"colab-df-container\">\n",
              "      <div>\n",
              "<style scoped>\n",
              "    .dataframe tbody tr th:only-of-type {\n",
              "        vertical-align: middle;\n",
              "    }\n",
              "\n",
              "    .dataframe tbody tr th {\n",
              "        vertical-align: top;\n",
              "    }\n",
              "\n",
              "    .dataframe thead th {\n",
              "        text-align: right;\n",
              "    }\n",
              "</style>\n",
              "<table border=\"1\" class=\"dataframe\">\n",
              "  <thead>\n",
              "    <tr style=\"text-align: right;\">\n",
              "      <th></th>\n",
              "      <th>ID</th>\n",
              "      <th>Compactness</th>\n",
              "      <th>Circularity</th>\n",
              "      <th>Distance Circularity</th>\n",
              "      <th>Radius ratio</th>\n",
              "      <th>pr.axis aspect rati</th>\n",
              "      <th>max.length aspect ratio</th>\n",
              "      <th>scatter ratio</th>\n",
              "      <th>elongatedness</th>\n",
              "      <th>pr.axis rectangularity</th>\n",
              "      <th>max. length rectangularity</th>\n",
              "      <th>scaled variance along major axis</th>\n",
              "      <th>scaled variance along minor axis</th>\n",
              "      <th>scaled radius of gyration</th>\n",
              "      <th>skewness about major axis</th>\n",
              "      <th>skewness about minor axis</th>\n",
              "      <th>kurtosis about minor axis</th>\n",
              "      <th>kurtosis about major axis</th>\n",
              "      <th>hollows ratio</th>\n",
              "      <th>Class</th>\n",
              "    </tr>\n",
              "  </thead>\n",
              "  <tbody>\n",
              "    <tr>\n",
              "      <th>0</th>\n",
              "      <td>False</td>\n",
              "      <td>False</td>\n",
              "      <td>False</td>\n",
              "      <td>False</td>\n",
              "      <td>False</td>\n",
              "      <td>False</td>\n",
              "      <td>False</td>\n",
              "      <td>False</td>\n",
              "      <td>False</td>\n",
              "      <td>False</td>\n",
              "      <td>False</td>\n",
              "      <td>False</td>\n",
              "      <td>False</td>\n",
              "      <td>False</td>\n",
              "      <td>False</td>\n",
              "      <td>False</td>\n",
              "      <td>False</td>\n",
              "      <td>False</td>\n",
              "      <td>False</td>\n",
              "      <td>False</td>\n",
              "    </tr>\n",
              "    <tr>\n",
              "      <th>1</th>\n",
              "      <td>False</td>\n",
              "      <td>False</td>\n",
              "      <td>False</td>\n",
              "      <td>False</td>\n",
              "      <td>False</td>\n",
              "      <td>False</td>\n",
              "      <td>False</td>\n",
              "      <td>False</td>\n",
              "      <td>False</td>\n",
              "      <td>False</td>\n",
              "      <td>False</td>\n",
              "      <td>False</td>\n",
              "      <td>False</td>\n",
              "      <td>False</td>\n",
              "      <td>False</td>\n",
              "      <td>False</td>\n",
              "      <td>False</td>\n",
              "      <td>False</td>\n",
              "      <td>False</td>\n",
              "      <td>False</td>\n",
              "    </tr>\n",
              "    <tr>\n",
              "      <th>2</th>\n",
              "      <td>False</td>\n",
              "      <td>False</td>\n",
              "      <td>False</td>\n",
              "      <td>False</td>\n",
              "      <td>False</td>\n",
              "      <td>False</td>\n",
              "      <td>False</td>\n",
              "      <td>False</td>\n",
              "      <td>False</td>\n",
              "      <td>False</td>\n",
              "      <td>False</td>\n",
              "      <td>False</td>\n",
              "      <td>False</td>\n",
              "      <td>False</td>\n",
              "      <td>False</td>\n",
              "      <td>False</td>\n",
              "      <td>False</td>\n",
              "      <td>False</td>\n",
              "      <td>False</td>\n",
              "      <td>False</td>\n",
              "    </tr>\n",
              "    <tr>\n",
              "      <th>3</th>\n",
              "      <td>False</td>\n",
              "      <td>False</td>\n",
              "      <td>False</td>\n",
              "      <td>False</td>\n",
              "      <td>False</td>\n",
              "      <td>False</td>\n",
              "      <td>False</td>\n",
              "      <td>False</td>\n",
              "      <td>False</td>\n",
              "      <td>False</td>\n",
              "      <td>False</td>\n",
              "      <td>False</td>\n",
              "      <td>False</td>\n",
              "      <td>False</td>\n",
              "      <td>False</td>\n",
              "      <td>False</td>\n",
              "      <td>False</td>\n",
              "      <td>False</td>\n",
              "      <td>False</td>\n",
              "      <td>False</td>\n",
              "    </tr>\n",
              "    <tr>\n",
              "      <th>4</th>\n",
              "      <td>False</td>\n",
              "      <td>False</td>\n",
              "      <td>False</td>\n",
              "      <td>False</td>\n",
              "      <td>False</td>\n",
              "      <td>False</td>\n",
              "      <td>False</td>\n",
              "      <td>False</td>\n",
              "      <td>False</td>\n",
              "      <td>False</td>\n",
              "      <td>False</td>\n",
              "      <td>False</td>\n",
              "      <td>False</td>\n",
              "      <td>False</td>\n",
              "      <td>False</td>\n",
              "      <td>False</td>\n",
              "      <td>False</td>\n",
              "      <td>False</td>\n",
              "      <td>False</td>\n",
              "      <td>False</td>\n",
              "    </tr>\n",
              "    <tr>\n",
              "      <th>...</th>\n",
              "      <td>...</td>\n",
              "      <td>...</td>\n",
              "      <td>...</td>\n",
              "      <td>...</td>\n",
              "      <td>...</td>\n",
              "      <td>...</td>\n",
              "      <td>...</td>\n",
              "      <td>...</td>\n",
              "      <td>...</td>\n",
              "      <td>...</td>\n",
              "      <td>...</td>\n",
              "      <td>...</td>\n",
              "      <td>...</td>\n",
              "      <td>...</td>\n",
              "      <td>...</td>\n",
              "      <td>...</td>\n",
              "      <td>...</td>\n",
              "      <td>...</td>\n",
              "      <td>...</td>\n",
              "      <td>...</td>\n",
              "    </tr>\n",
              "    <tr>\n",
              "      <th>714</th>\n",
              "      <td>False</td>\n",
              "      <td>False</td>\n",
              "      <td>False</td>\n",
              "      <td>False</td>\n",
              "      <td>False</td>\n",
              "      <td>False</td>\n",
              "      <td>False</td>\n",
              "      <td>False</td>\n",
              "      <td>False</td>\n",
              "      <td>False</td>\n",
              "      <td>False</td>\n",
              "      <td>False</td>\n",
              "      <td>False</td>\n",
              "      <td>False</td>\n",
              "      <td>False</td>\n",
              "      <td>False</td>\n",
              "      <td>False</td>\n",
              "      <td>False</td>\n",
              "      <td>False</td>\n",
              "      <td>False</td>\n",
              "    </tr>\n",
              "    <tr>\n",
              "      <th>715</th>\n",
              "      <td>False</td>\n",
              "      <td>False</td>\n",
              "      <td>False</td>\n",
              "      <td>False</td>\n",
              "      <td>False</td>\n",
              "      <td>False</td>\n",
              "      <td>False</td>\n",
              "      <td>False</td>\n",
              "      <td>False</td>\n",
              "      <td>False</td>\n",
              "      <td>False</td>\n",
              "      <td>False</td>\n",
              "      <td>False</td>\n",
              "      <td>False</td>\n",
              "      <td>False</td>\n",
              "      <td>False</td>\n",
              "      <td>False</td>\n",
              "      <td>False</td>\n",
              "      <td>False</td>\n",
              "      <td>False</td>\n",
              "    </tr>\n",
              "    <tr>\n",
              "      <th>716</th>\n",
              "      <td>False</td>\n",
              "      <td>False</td>\n",
              "      <td>False</td>\n",
              "      <td>False</td>\n",
              "      <td>False</td>\n",
              "      <td>False</td>\n",
              "      <td>False</td>\n",
              "      <td>False</td>\n",
              "      <td>False</td>\n",
              "      <td>False</td>\n",
              "      <td>False</td>\n",
              "      <td>False</td>\n",
              "      <td>False</td>\n",
              "      <td>False</td>\n",
              "      <td>False</td>\n",
              "      <td>False</td>\n",
              "      <td>False</td>\n",
              "      <td>False</td>\n",
              "      <td>False</td>\n",
              "      <td>False</td>\n",
              "    </tr>\n",
              "    <tr>\n",
              "      <th>717</th>\n",
              "      <td>False</td>\n",
              "      <td>False</td>\n",
              "      <td>False</td>\n",
              "      <td>False</td>\n",
              "      <td>False</td>\n",
              "      <td>False</td>\n",
              "      <td>False</td>\n",
              "      <td>False</td>\n",
              "      <td>False</td>\n",
              "      <td>False</td>\n",
              "      <td>False</td>\n",
              "      <td>False</td>\n",
              "      <td>False</td>\n",
              "      <td>False</td>\n",
              "      <td>False</td>\n",
              "      <td>False</td>\n",
              "      <td>False</td>\n",
              "      <td>False</td>\n",
              "      <td>False</td>\n",
              "      <td>False</td>\n",
              "    </tr>\n",
              "    <tr>\n",
              "      <th>718</th>\n",
              "      <td>False</td>\n",
              "      <td>False</td>\n",
              "      <td>False</td>\n",
              "      <td>False</td>\n",
              "      <td>False</td>\n",
              "      <td>False</td>\n",
              "      <td>False</td>\n",
              "      <td>False</td>\n",
              "      <td>False</td>\n",
              "      <td>False</td>\n",
              "      <td>False</td>\n",
              "      <td>False</td>\n",
              "      <td>False</td>\n",
              "      <td>False</td>\n",
              "      <td>False</td>\n",
              "      <td>False</td>\n",
              "      <td>False</td>\n",
              "      <td>False</td>\n",
              "      <td>False</td>\n",
              "      <td>False</td>\n",
              "    </tr>\n",
              "  </tbody>\n",
              "</table>\n",
              "<p>719 rows × 20 columns</p>\n",
              "</div>\n",
              "      <button class=\"colab-df-convert\" onclick=\"convertToInteractive('df-b3630afd-00e8-4168-a7e9-6cf3007cbe36')\"\n",
              "              title=\"Convert this dataframe to an interactive table.\"\n",
              "              style=\"display:none;\">\n",
              "        \n",
              "  <svg xmlns=\"http://www.w3.org/2000/svg\" height=\"24px\"viewBox=\"0 0 24 24\"\n",
              "       width=\"24px\">\n",
              "    <path d=\"M0 0h24v24H0V0z\" fill=\"none\"/>\n",
              "    <path d=\"M18.56 5.44l.94 2.06.94-2.06 2.06-.94-2.06-.94-.94-2.06-.94 2.06-2.06.94zm-11 1L8.5 8.5l.94-2.06 2.06-.94-2.06-.94L8.5 2.5l-.94 2.06-2.06.94zm10 10l.94 2.06.94-2.06 2.06-.94-2.06-.94-.94-2.06-.94 2.06-2.06.94z\"/><path d=\"M17.41 7.96l-1.37-1.37c-.4-.4-.92-.59-1.43-.59-.52 0-1.04.2-1.43.59L10.3 9.45l-7.72 7.72c-.78.78-.78 2.05 0 2.83L4 21.41c.39.39.9.59 1.41.59.51 0 1.02-.2 1.41-.59l7.78-7.78 2.81-2.81c.8-.78.8-2.07 0-2.86zM5.41 20L4 18.59l7.72-7.72 1.47 1.35L5.41 20z\"/>\n",
              "  </svg>\n",
              "      </button>\n",
              "      \n",
              "  <style>\n",
              "    .colab-df-container {\n",
              "      display:flex;\n",
              "      flex-wrap:wrap;\n",
              "      gap: 12px;\n",
              "    }\n",
              "\n",
              "    .colab-df-convert {\n",
              "      background-color: #E8F0FE;\n",
              "      border: none;\n",
              "      border-radius: 50%;\n",
              "      cursor: pointer;\n",
              "      display: none;\n",
              "      fill: #1967D2;\n",
              "      height: 32px;\n",
              "      padding: 0 0 0 0;\n",
              "      width: 32px;\n",
              "    }\n",
              "\n",
              "    .colab-df-convert:hover {\n",
              "      background-color: #E2EBFA;\n",
              "      box-shadow: 0px 1px 2px rgba(60, 64, 67, 0.3), 0px 1px 3px 1px rgba(60, 64, 67, 0.15);\n",
              "      fill: #174EA6;\n",
              "    }\n",
              "\n",
              "    [theme=dark] .colab-df-convert {\n",
              "      background-color: #3B4455;\n",
              "      fill: #D2E3FC;\n",
              "    }\n",
              "\n",
              "    [theme=dark] .colab-df-convert:hover {\n",
              "      background-color: #434B5C;\n",
              "      box-shadow: 0px 1px 3px 1px rgba(0, 0, 0, 0.15);\n",
              "      filter: drop-shadow(0px 1px 2px rgba(0, 0, 0, 0.3));\n",
              "      fill: #FFFFFF;\n",
              "    }\n",
              "  </style>\n",
              "\n",
              "      <script>\n",
              "        const buttonEl =\n",
              "          document.querySelector('#df-b3630afd-00e8-4168-a7e9-6cf3007cbe36 button.colab-df-convert');\n",
              "        buttonEl.style.display =\n",
              "          google.colab.kernel.accessAllowed ? 'block' : 'none';\n",
              "\n",
              "        async function convertToInteractive(key) {\n",
              "          const element = document.querySelector('#df-b3630afd-00e8-4168-a7e9-6cf3007cbe36');\n",
              "          const dataTable =\n",
              "            await google.colab.kernel.invokeFunction('convertToInteractive',\n",
              "                                                     [key], {});\n",
              "          if (!dataTable) return;\n",
              "\n",
              "          const docLinkHtml = 'Like what you see? Visit the ' +\n",
              "            '<a target=\"_blank\" href=https://colab.research.google.com/notebooks/data_table.ipynb>data table notebook</a>'\n",
              "            + ' to learn more about interactive tables.';\n",
              "          element.innerHTML = '';\n",
              "          dataTable['output_type'] = 'display_data';\n",
              "          await google.colab.output.renderOutput(dataTable, element);\n",
              "          const docLink = document.createElement('div');\n",
              "          docLink.innerHTML = docLinkHtml;\n",
              "          element.appendChild(docLink);\n",
              "        }\n",
              "      </script>\n",
              "    </div>\n",
              "  </div>\n",
              "  "
            ]
          },
          "metadata": {},
          "execution_count": 65
        }
      ]
    },
    {
      "cell_type": "code",
      "source": [
        "data = data.drop(['ID'], axis = 1)"
      ],
      "metadata": {
        "id": "sewoNfBu7Znr"
      },
      "execution_count": 133,
      "outputs": []
    },
    {
      "cell_type": "code",
      "source": [
        "data.isnull().sum()"
      ],
      "metadata": {
        "colab": {
          "base_uri": "https://localhost:8080/"
        },
        "id": "GJinTGZJ0Pjp",
        "outputId": "f88ea15b-c6a1-45d2-f092-75133b6e6433"
      },
      "execution_count": 134,
      "outputs": [
        {
          "output_type": "execute_result",
          "data": {
            "text/plain": [
              "Compactness                         0\n",
              "Circularity                         0\n",
              "Distance Circularity                0\n",
              "Radius ratio                        0\n",
              "pr.axis aspect rati                 0\n",
              "max.length aspect ratio             0\n",
              "scatter ratio                       0\n",
              "elongatedness                       0\n",
              "pr.axis rectangularity              0\n",
              "max. length rectangularity          0\n",
              "scaled variance along major axis    0\n",
              "scaled variance along minor axis    0\n",
              "scaled radius of gyration           0\n",
              "skewness about major axis           0\n",
              "skewness about minor axis           0\n",
              "kurtosis about minor axis           0\n",
              "kurtosis about major axis           0\n",
              "hollows ratio                       0\n",
              "Class                               0\n",
              "dtype: int64"
            ]
          },
          "metadata": {},
          "execution_count": 134
        }
      ]
    },
    {
      "cell_type": "code",
      "source": [
        "data.Circularity.unique()"
      ],
      "metadata": {
        "colab": {
          "base_uri": "https://localhost:8080/"
        },
        "id": "vV8CjhGN6BG_",
        "outputId": "e21c78e7-0a93-4ba1-814f-07b7689f8b85"
      },
      "execution_count": 124,
      "outputs": [
        {
          "output_type": "execute_result",
          "data": {
            "text/plain": [
              "array([39, 35, 41, 54, 46, 37, 55, 38, 40, 45, 36, 34, 52, 51, 47, 44, 53,\n",
              "       43, 57, 50, 42, 59, 48, 56, 33, 58, 49])"
            ]
          },
          "metadata": {},
          "execution_count": 124
        }
      ]
    },
    {
      "cell_type": "code",
      "source": [
        "data.Circularity.unique()"
      ],
      "metadata": {
        "colab": {
          "base_uri": "https://localhost:8080/"
        },
        "id": "T80lsD936OlI",
        "outputId": "8dace011-7cb4-4dea-95e0-59ade247312a"
      },
      "execution_count": 128,
      "outputs": [
        {
          "output_type": "execute_result",
          "data": {
            "text/plain": [
              "array([39, 35, 41, 54, 46, 37, 55, 38, 40, 45, 36, 34, 52, 51, 47, 44, 53,\n",
              "       43, 57, 50, 42, 59, 48, 56, 33, 58, 49])"
            ]
          },
          "metadata": {},
          "execution_count": 128
        }
      ]
    },
    {
      "cell_type": "code",
      "source": [
        "data.Class.unique()"
      ],
      "metadata": {
        "colab": {
          "base_uri": "https://localhost:8080/"
        },
        "id": "7fDBKF7b6IAW",
        "outputId": "ac9ae82a-51ed-4848-abd1-f93e2aca5d3c"
      },
      "execution_count": 127,
      "outputs": [
        {
          "output_type": "execute_result",
          "data": {
            "text/plain": [
              "array([0, 3, 1, 2])"
            ]
          },
          "metadata": {},
          "execution_count": 127
        }
      ]
    },
    {
      "cell_type": "code",
      "source": [
        "data.info()"
      ],
      "metadata": {
        "colab": {
          "base_uri": "https://localhost:8080/"
        },
        "id": "18AMaR770V89",
        "outputId": "481ed363-dd6e-4c6e-df02-024ab97ed6fd"
      },
      "execution_count": 67,
      "outputs": [
        {
          "output_type": "stream",
          "name": "stdout",
          "text": [
            "<class 'pandas.core.frame.DataFrame'>\n",
            "RangeIndex: 719 entries, 0 to 718\n",
            "Data columns (total 20 columns):\n",
            " #   Column                            Non-Null Count  Dtype\n",
            "---  ------                            --------------  -----\n",
            " 0   ID                                719 non-null    int64\n",
            " 1   Compactness                       719 non-null    int64\n",
            " 2   Circularity                       719 non-null    int64\n",
            " 3   Distance Circularity              719 non-null    int64\n",
            " 4   Radius ratio                      719 non-null    int64\n",
            " 5   pr.axis aspect rati               719 non-null    int64\n",
            " 6   max.length aspect ratio           719 non-null    int64\n",
            " 7   scatter ratio                     719 non-null    int64\n",
            " 8   elongatedness                     719 non-null    int64\n",
            " 9   pr.axis rectangularity            719 non-null    int64\n",
            " 10  max. length rectangularity        719 non-null    int64\n",
            " 11  scaled variance along major axis  719 non-null    int64\n",
            " 12  scaled variance along minor axis  719 non-null    int64\n",
            " 13  scaled radius of gyration         719 non-null    int64\n",
            " 14  skewness about major axis         719 non-null    int64\n",
            " 15  skewness about minor axis         719 non-null    int64\n",
            " 16  kurtosis about minor axis         719 non-null    int64\n",
            " 17  kurtosis about major axis         719 non-null    int64\n",
            " 18  hollows ratio                     719 non-null    int64\n",
            " 19  Class                             719 non-null    int64\n",
            "dtypes: int64(20)\n",
            "memory usage: 112.5 KB\n"
          ]
        }
      ]
    },
    {
      "cell_type": "code",
      "source": [
        "data.shape"
      ],
      "metadata": {
        "colab": {
          "base_uri": "https://localhost:8080/"
        },
        "id": "0BGP7A5Rztre",
        "outputId": "1c3aa562-8dd7-4010-b09d-a158f3167f46"
      },
      "execution_count": 42,
      "outputs": [
        {
          "output_type": "execute_result",
          "data": {
            "text/plain": [
              "(719, 20)"
            ]
          },
          "metadata": {},
          "execution_count": 42
        }
      ]
    },
    {
      "cell_type": "markdown",
      "source": [
        "**4) Model Building and Evaluation**"
      ],
      "metadata": {
        "id": "6AsN2o0T7M1t"
      }
    },
    {
      "cell_type": "code",
      "source": [
        "X = data.iloc[:,0:-1]\n",
        "y = data.iloc[:,-1]"
      ],
      "metadata": {
        "id": "79cNjxqTvUyX"
      },
      "execution_count": 135,
      "outputs": []
    },
    {
      "cell_type": "code",
      "source": [
        "X.shape"
      ],
      "metadata": {
        "colab": {
          "base_uri": "https://localhost:8080/"
        },
        "id": "SDb0NuhM0cNG",
        "outputId": "c7769491-a453-4431-80cf-57bb9dec0020"
      },
      "execution_count": 136,
      "outputs": [
        {
          "output_type": "execute_result",
          "data": {
            "text/plain": [
              "(719, 18)"
            ]
          },
          "metadata": {},
          "execution_count": 136
        }
      ]
    },
    {
      "cell_type": "code",
      "source": [
        "y.shape"
      ],
      "metadata": {
        "colab": {
          "base_uri": "https://localhost:8080/"
        },
        "id": "UHVtHc760eXT",
        "outputId": "bc055a9d-5653-4584-c184-7b3de1210550"
      },
      "execution_count": 137,
      "outputs": [
        {
          "output_type": "execute_result",
          "data": {
            "text/plain": [
              "(719,)"
            ]
          },
          "metadata": {},
          "execution_count": 137
        }
      ]
    },
    {
      "cell_type": "code",
      "source": [
        "y"
      ],
      "metadata": {
        "colab": {
          "base_uri": "https://localhost:8080/"
        },
        "id": "kIUAtIFn0wHW",
        "outputId": "261a04da-bf20-4cd6-866b-225e332b9731"
      },
      "execution_count": 138,
      "outputs": [
        {
          "output_type": "execute_result",
          "data": {
            "text/plain": [
              "0      0\n",
              "1      3\n",
              "2      3\n",
              "3      1\n",
              "4      2\n",
              "      ..\n",
              "714    0\n",
              "715    2\n",
              "716    3\n",
              "717    2\n",
              "718    0\n",
              "Name: Class, Length: 719, dtype: int64"
            ]
          },
          "metadata": {},
          "execution_count": 138
        }
      ]
    },
    {
      "cell_type": "code",
      "source": [
        "sns.countplot(y)"
      ],
      "metadata": {
        "colab": {
          "base_uri": "https://localhost:8080/",
          "height": 351
        },
        "id": "sf5X9UEXybyj",
        "outputId": "0c7ccb98-e6c5-4168-83d0-d8f2d7643b22"
      },
      "execution_count": 139,
      "outputs": [
        {
          "output_type": "stream",
          "name": "stderr",
          "text": [
            "/usr/local/lib/python3.8/dist-packages/seaborn/_decorators.py:36: FutureWarning: Pass the following variable as a keyword arg: x. From version 0.12, the only valid positional argument will be `data`, and passing other arguments without an explicit keyword will result in an error or misinterpretation.\n",
            "  warnings.warn(\n"
          ]
        },
        {
          "output_type": "execute_result",
          "data": {
            "text/plain": [
              "<AxesSubplot:xlabel='Class', ylabel='count'>"
            ]
          },
          "metadata": {},
          "execution_count": 139
        },
        {
          "output_type": "display_data",
          "data": {
            "text/plain": [
              "<Figure size 432x288 with 1 Axes>"
            ],
            "image/png": "[encoded data removed]"
          },
          "metadata": {
            "needs_background": "light"
          }
        }
      ]
    },
    {
      "cell_type": "code",
      "source": [
        "from sklearn.model_selection import train_test_split"
      ],
      "metadata": {
        "id": "vXIWg0cOyhxN"
      },
      "execution_count": 140,
      "outputs": []
    },
    {
      "cell_type": "code",
      "source": [
        "X_train, X_test, y_train, y_test = train_test_split(X, y, test_size = 0.2, random_state = 0)"
      ],
      "metadata": {
        "id": "ICjhbWLXyive"
      },
      "execution_count": 141,
      "outputs": []
    },
    {
      "cell_type": "markdown",
      "source": [
        "**4.1) KNN MODEL**"
      ],
      "metadata": {
        "id": "T2FPJFjP8oAw"
      }
    },
    {
      "cell_type": "code",
      "source": [
        "from sklearn.neighbors import KNeighborsClassifier\n"
      ],
      "metadata": {
        "id": "iUOr-rrRyoSE"
      },
      "execution_count": 185,
      "outputs": []
    },
    {
      "cell_type": "code",
      "source": [
        "from sklearn.metrics import f1_score"
      ],
      "metadata": {
        "id": "8wXZg0Mo8vof"
      },
      "execution_count": 186,
      "outputs": []
    },
    {
      "cell_type": "code",
      "source": [
        "knn = KNeighborsClassifier(n_neighbors = 50)\n"
      ],
      "metadata": {
        "id": "b_Bcb_uZywZQ"
      },
      "execution_count": 188,
      "outputs": []
    },
    {
      "cell_type": "code",
      "source": [
        "knn.fit(X_train, y_train)\n"
      ],
      "metadata": {
        "colab": {
          "base_uri": "https://localhost:8080/"
        },
        "id": "TvckinmTy9VL",
        "outputId": "c5331131-acec-4dc5-bf69-9a764e32bd4d"
      },
      "execution_count": 189,
      "outputs": [
        {
          "output_type": "execute_result",
          "data": {
            "text/plain": [
              "RandomizedSearchCV(cv=5, estimator=DecisionTreeClassifier(), n_iter=6,\n",
              "                   param_distributions={'criterion': ['gini', 'entropy'],\n",
              "                                        'max_depth': [2, 3, 4, 5, 6, 7, 8, 9,\n",
              "                                                      10, 11, 12, 13, 14, 15,\n",
              "                                                      16, 17]})"
            ]
          },
          "metadata": {},
          "execution_count": 189
        }
      ]
    },
    {
      "cell_type": "code",
      "source": [
        "print('Train Score :' , knn.score(X_train, y_train), 'Test Score :' , knn.score(X_test, y_test))\n"
      ],
      "metadata": {
        "colab": {
          "base_uri": "https://localhost:8080/"
        },
        "id": "-Md5sbCRzA9_",
        "outputId": "4656c64f-381e-45f5-e7ad-5248f6eee9ec"
      },
      "execution_count": 240,
      "outputs": [
        {
          "output_type": "stream",
          "name": "stdout",
          "text": [
            "Train Score : 0.551304347826087 Test Score : 0.5486111111111112\n"
          ]
        }
      ]
    },
    {
      "cell_type": "code",
      "source": [
        "train_score = []\n",
        "test_score = []\n",
        "\n",
        "for k in range(1, 101) :\n",
        "  knn = KNeighborsClassifier(n_neighbors = k)\n",
        "  knn.fit(X_train, y_train)\n",
        "  train_score.append(knn.score(X_train, y_train))\n",
        "  test_score.append(knn.score(X_test, y_test))"
      ],
      "metadata": {
        "id": "Jv_IPUUSzGRG"
      },
      "execution_count": 191,
      "outputs": []
    },
    {
      "cell_type": "code",
      "source": [
        "train_score"
      ],
      "metadata": {
        "colab": {
          "base_uri": "https://localhost:8080/"
        },
        "id": "mjNfh82izK1J",
        "outputId": "95c6e078-372e-4515-8bf9-9fbad100685a"
      },
      "execution_count": 192,
      "outputs": [
        {
          "output_type": "execute_result",
          "data": {
            "text/plain": [
              "[1.0,\n",
              " 0.8382608695652174,\n",
              " 0.8034782608695652,\n",
              " 0.8052173913043478,\n",
              " 0.7895652173913044,\n",
              " 0.7756521739130435,\n",
              " 0.7495652173913043,\n",
              " 0.7408695652173913,\n",
              " 0.7147826086956521,\n",
              " 0.7043478260869566,\n",
              " 0.7078260869565217,\n",
              " 0.6991304347826087,\n",
              " 0.6782608695652174,\n",
              " 0.6765217391304348,\n",
              " 0.6747826086956522,\n",
              " 0.6730434782608695,\n",
              " 0.6695652173913044,\n",
              " 0.6852173913043478,\n",
              " 0.662608695652174,\n",
              " 0.6660869565217391,\n",
              " 0.662608695652174,\n",
              " 0.6504347826086957,\n",
              " 0.64,\n",
              " 0.6417391304347826,\n",
              " 0.6365217391304347,\n",
              " 0.64,\n",
              " 0.6330434782608696,\n",
              " 0.6278260869565218,\n",
              " 0.6313043478260869,\n",
              " 0.6347826086956522,\n",
              " 0.6243478260869565,\n",
              " 0.6347826086956522,\n",
              " 0.6156521739130435,\n",
              " 0.6243478260869565,\n",
              " 0.6017391304347826,\n",
              " 0.6139130434782609,\n",
              " 0.6052173913043478,\n",
              " 0.6017391304347826,\n",
              " 0.6052173913043478,\n",
              " 0.6,\n",
              " 0.5895652173913043,\n",
              " 0.577391304347826,\n",
              " 0.5704347826086956,\n",
              " 0.5704347826086956,\n",
              " 0.5739130434782609,\n",
              " 0.5756521739130435,\n",
              " 0.5739130434782609,\n",
              " 0.5791304347826087,\n",
              " 0.5791304347826087,\n",
              " 0.577391304347826,\n",
              " 0.5739130434782609,\n",
              " 0.5739130434782609,\n",
              " 0.5652173913043478,\n",
              " 0.5704347826086956,\n",
              " 0.5652173913043478,\n",
              " 0.5652173913043478,\n",
              " 0.5704347826086956,\n",
              " 0.56,\n",
              " 0.5617391304347826,\n",
              " 0.5669565217391305,\n",
              " 0.5617391304347826,\n",
              " 0.5634782608695652,\n",
              " 0.551304347826087,\n",
              " 0.5460869565217391,\n",
              " 0.5391304347826087,\n",
              " 0.5373913043478261,\n",
              " 0.5373913043478261,\n",
              " 0.5443478260869565,\n",
              " 0.5373913043478261,\n",
              " 0.5373913043478261,\n",
              " 0.5443478260869565,\n",
              " 0.5495652173913044,\n",
              " 0.5478260869565217,\n",
              " 0.5443478260869565,\n",
              " 0.5478260869565217,\n",
              " 0.5391304347826087,\n",
              " 0.5408695652173913,\n",
              " 0.5478260869565217,\n",
              " 0.5408695652173913,\n",
              " 0.5478260869565217,\n",
              " 0.5391304347826087,\n",
              " 0.5408695652173913,\n",
              " 0.5391304347826087,\n",
              " 0.5408695652173913,\n",
              " 0.5373913043478261,\n",
              " 0.5460869565217391,\n",
              " 0.5373913043478261,\n",
              " 0.5373913043478261,\n",
              " 0.5373913043478261,\n",
              " 0.5339130434782609,\n",
              " 0.5339130434782609,\n",
              " 0.5356521739130434,\n",
              " 0.5391304347826087,\n",
              " 0.5356521739130434,\n",
              " 0.5408695652173913,\n",
              " 0.5460869565217391,\n",
              " 0.5478260869565217,\n",
              " 0.5478260869565217,\n",
              " 0.5530434782608695,\n",
              " 0.551304347826087]"
            ]
          },
          "metadata": {},
          "execution_count": 192
        }
      ]
    },
    {
      "cell_type": "code",
      "source": [
        "plt.plot(train_score, 'ro', label = 'train')\n",
        "plt.plot(test_score, 'g*', label = 'test')\n",
        "plt.legend()"
      ],
      "metadata": {
        "colab": {
          "base_uri": "https://localhost:8080/",
          "height": 282
        },
        "id": "7D61a4v9zUSo",
        "outputId": "0ca75621-0a91-44af-865a-76cf95c1bacd"
      },
      "execution_count": 193,
      "outputs": [
        {
          "output_type": "execute_result",
          "data": {
            "text/plain": [
              "<matplotlib.legend.Legend at 0x7efcd29bb8e0>"
            ]
          },
          "metadata": {},
          "execution_count": 193
        },
        {
          "output_type": "display_data",
          "data": {
            "text/plain": [
              "<Figure size 432x288 with 1 Axes>"
            ],
            "image/png": "[encoded data removed]"
          },
          "metadata": {
            "needs_background": "light"
          }
        }
      ]
    },
    {
      "cell_type": "code",
      "source": [
        "X.shape"
      ],
      "metadata": {
        "colab": {
          "base_uri": "https://localhost:8080/"
        },
        "id": "gNpj1aNwzccX",
        "outputId": "c6438338-0c8f-4242-89e6-6a014d2583b2"
      },
      "execution_count": 194,
      "outputs": [
        {
          "output_type": "execute_result",
          "data": {
            "text/plain": [
              "(719, 18)"
            ]
          },
          "metadata": {},
          "execution_count": 194
        }
      ]
    },
    {
      "cell_type": "code",
      "source": [
        "from sklearn.metrics import plot_confusion_matrix"
      ],
      "metadata": {
        "id": "7BL87rzJzfyM"
      },
      "execution_count": 195,
      "outputs": []
    },
    {
      "cell_type": "code",
      "source": [
        "plot_confusion_matrix(knn, X_test, y_test)"
      ],
      "metadata": {
        "colab": {
          "base_uri": "https://localhost:8080/",
          "height": 351
        },
        "id": "X378WtWtziUl",
        "outputId": "25fad06a-fab2-4840-e246-7ea06165e66c"
      },
      "execution_count": 196,
      "outputs": [
        {
          "output_type": "stream",
          "name": "stderr",
          "text": [
            "/usr/local/lib/python3.8/dist-packages/sklearn/utils/deprecation.py:87: FutureWarning: Function plot_confusion_matrix is deprecated; Function `plot_confusion_matrix` is deprecated in 1.0 and will be removed in 1.2. Use one of the class methods: ConfusionMatrixDisplay.from_predictions or ConfusionMatrixDisplay.from_estimator.\n",
            "  warnings.warn(msg, category=FutureWarning)\n"
          ]
        },
        {
          "output_type": "execute_result",
          "data": {
            "text/plain": [
              "<sklearn.metrics._plot.confusion_matrix.ConfusionMatrixDisplay at 0x7efcd2aca430>"
            ]
          },
          "metadata": {},
          "execution_count": 196
        },
        {
          "output_type": "display_data",
          "data": {
            "text/plain": [
              "<Figure size 432x288 with 2 Axes>"
            ],
            "image/png": "[encoded data removed]"
          },
          "metadata": {
            "needs_background": "light"
          }
        }
      ]
    },
    {
      "cell_type": "markdown",
      "source": [
        "**4.2) Decision Tree Model**"
      ],
      "metadata": {
        "id": "29S-uauFEkiA"
      }
    },
    {
      "cell_type": "code",
      "source": [
        "from sklearn.tree import DecisionTreeClassifier"
      ],
      "metadata": {
        "id": "wlvfL83F04b1"
      },
      "execution_count": 197,
      "outputs": []
    },
    {
      "cell_type": "code",
      "source": [
        "dtc = DecisionTreeClassifier(random_state = 0)"
      ],
      "metadata": {
        "id": "BVao7VaN07BL"
      },
      "execution_count": 198,
      "outputs": []
    },
    {
      "cell_type": "code",
      "source": [
        "dtc.fit(X_train, y_train)"
      ],
      "metadata": {
        "colab": {
          "base_uri": "https://localhost:8080/"
        },
        "id": "0k_Igh5D09V4",
        "outputId": "68490fbb-3434-4a29-fb92-0463b2c04d84"
      },
      "execution_count": 199,
      "outputs": [
        {
          "output_type": "execute_result",
          "data": {
            "text/plain": [
              "DecisionTreeClassifier(random_state=0)"
            ]
          },
          "metadata": {},
          "execution_count": 199
        }
      ]
    },
    {
      "cell_type": "code",
      "source": [
        "print('train score :', dtc.score(X_train, y_train))\n",
        "print('test score :', dtc.score(X_test, y_test)) "
      ],
      "metadata": {
        "colab": {
          "base_uri": "https://localhost:8080/"
        },
        "id": "LD7N2Xrw1CfT",
        "outputId": "961c165b-32cc-44be-e36f-bd2ef1d40990"
      },
      "execution_count": 200,
      "outputs": [
        {
          "output_type": "stream",
          "name": "stdout",
          "text": [
            "train score : 1.0\n",
            "test score : 0.7916666666666666\n"
          ]
        }
      ]
    },
    {
      "cell_type": "code",
      "source": [
        "dtc.get_depth()"
      ],
      "metadata": {
        "colab": {
          "base_uri": "https://localhost:8080/"
        },
        "id": "6dJ3kfNf1F2k",
        "outputId": "0031ba9f-3ea6-4f41-fa22-8632b0204760"
      },
      "execution_count": 201,
      "outputs": [
        {
          "output_type": "execute_result",
          "data": {
            "text/plain": [
              "15"
            ]
          },
          "metadata": {},
          "execution_count": 201
        }
      ]
    },
    {
      "cell_type": "code",
      "source": [
        "depths = [i for i in range(1, 18)]"
      ],
      "metadata": {
        "id": "FPjnjCts1Rdg"
      },
      "execution_count": 202,
      "outputs": []
    },
    {
      "cell_type": "code",
      "source": [
        "train_score = []\n",
        "test_score = []\n",
        "\n",
        "for depth in depths :\n",
        "  dt = DecisionTreeClassifier(max_depth = depth, random_state = 0)\n",
        "  dt.fit(X_train, y_train)\n",
        "  train_score.append(dt.score(X_train, y_train))\n",
        "  test_score.append(dt.score(X_test, y_test))"
      ],
      "metadata": {
        "id": "QTBFDP4w1Ocz"
      },
      "execution_count": 203,
      "outputs": []
    },
    {
      "cell_type": "code",
      "source": [
        "plt.plot(range(1, 18), train_score , marker = '*', label = 'train_score')\n",
        "plt.plot(range(1, 18), test_score, marker = 'o', label = 'test score')\n",
        "plt.legend()"
      ],
      "metadata": {
        "colab": {
          "base_uri": "https://localhost:8080/",
          "height": 282
        },
        "id": "eLdywQB21Um0",
        "outputId": "a2dd7acd-e36b-4d24-ce1c-49b0b016c7f1"
      },
      "execution_count": 204,
      "outputs": [
        {
          "output_type": "execute_result",
          "data": {
            "text/plain": [
              "<matplotlib.legend.Legend at 0x7efcd28c8850>"
            ]
          },
          "metadata": {},
          "execution_count": 204
        },
        {
          "output_type": "display_data",
          "data": {
            "text/plain": [
              "<Figure size 432x288 with 1 Axes>"
            ],
            "image/png": "[encoded data removed]"
          },
          "metadata": {
            "needs_background": "light"
          }
        }
      ]
    },
    {
      "cell_type": "code",
      "source": [
        "dtc1 = DecisionTreeClassifier(max_depth = 4, random_state = 0)"
      ],
      "metadata": {
        "id": "0QbzmTbb1gIG"
      },
      "execution_count": 205,
      "outputs": []
    },
    {
      "cell_type": "code",
      "source": [
        "dtc1.fit(X_train, y_train)"
      ],
      "metadata": {
        "colab": {
          "base_uri": "https://localhost:8080/"
        },
        "id": "Gap9LN6H1mvu",
        "outputId": "a259b68f-895c-4209-eb76-2e2f2e515af7"
      },
      "execution_count": 206,
      "outputs": [
        {
          "output_type": "execute_result",
          "data": {
            "text/plain": [
              "DecisionTreeClassifier(max_depth=4, random_state=0)"
            ]
          },
          "metadata": {},
          "execution_count": 206
        }
      ]
    },
    {
      "cell_type": "code",
      "source": [
        "print(dtc1.score(X_train, y_train))\n",
        "print(dtc1.score(X_test, y_test))"
      ],
      "metadata": {
        "colab": {
          "base_uri": "https://localhost:8080/"
        },
        "id": "NXyBZGyq1ntr",
        "outputId": "507651a5-c2a9-4642-8367-ee37e81c47e0"
      },
      "execution_count": 207,
      "outputs": [
        {
          "output_type": "stream",
          "name": "stdout",
          "text": [
            "0.7408695652173913\n",
            "0.7013888888888888\n"
          ]
        }
      ]
    },
    {
      "cell_type": "code",
      "source": [
        "plot_confusion_matrix(dtc1, X_test, y_test)"
      ],
      "metadata": {
        "colab": {
          "base_uri": "https://localhost:8080/",
          "height": 351
        },
        "id": "R6OvAiQy1t9b",
        "outputId": "0470b53f-30b4-4bcd-ce54-30df29b766e8"
      },
      "execution_count": 208,
      "outputs": [
        {
          "output_type": "stream",
          "name": "stderr",
          "text": [
            "/usr/local/lib/python3.8/dist-packages/sklearn/utils/deprecation.py:87: FutureWarning: Function plot_confusion_matrix is deprecated; Function `plot_confusion_matrix` is deprecated in 1.0 and will be removed in 1.2. Use one of the class methods: ConfusionMatrixDisplay.from_predictions or ConfusionMatrixDisplay.from_estimator.\n",
            "  warnings.warn(msg, category=FutureWarning)\n"
          ]
        },
        {
          "output_type": "execute_result",
          "data": {
            "text/plain": [
              "<sklearn.metrics._plot.confusion_matrix.ConfusionMatrixDisplay at 0x7efcd2b6d490>"
            ]
          },
          "metadata": {},
          "execution_count": 208
        },
        {
          "output_type": "display_data",
          "data": {
            "text/plain": [
              "<Figure size 432x288 with 2 Axes>"
            ],
            "image/png": "[encoded data removed]"
          },
          "metadata": {
            "needs_background": "light"
          }
        }
      ]
    },
    {
      "cell_type": "code",
      "source": [
        "dtc2 = DecisionTreeClassifier(max_depth = 4, class_weight = 'balanced', random_state = 0)"
      ],
      "metadata": {
        "id": "Qs_UmTFO1_1I"
      },
      "execution_count": 209,
      "outputs": []
    },
    {
      "cell_type": "code",
      "source": [
        "dtc2.fit(X_train, y_train)"
      ],
      "metadata": {
        "colab": {
          "base_uri": "https://localhost:8080/"
        },
        "id": "d5ck5_JG2Qxy",
        "outputId": "c51f3264-f5fd-499d-e4f4-f0f48b273ba1"
      },
      "execution_count": 210,
      "outputs": [
        {
          "output_type": "execute_result",
          "data": {
            "text/plain": [
              "DecisionTreeClassifier(class_weight='balanced', max_depth=4, random_state=0)"
            ]
          },
          "metadata": {},
          "execution_count": 210
        }
      ]
    },
    {
      "cell_type": "code",
      "source": [
        "print(dtc2.score(X_train, y_train))\n",
        "print(dtc2.score(X_test, y_test))"
      ],
      "metadata": {
        "colab": {
          "base_uri": "https://localhost:8080/"
        },
        "id": "unNDKuBF2TZ8",
        "outputId": "5a38b27c-bc54-4e8c-d2b4-5477ecf5dda7"
      },
      "execution_count": 211,
      "outputs": [
        {
          "output_type": "stream",
          "name": "stdout",
          "text": [
            "0.7286956521739131\n",
            "0.7222222222222222\n"
          ]
        }
      ]
    },
    {
      "cell_type": "code",
      "source": [
        "plot_confusion_matrix(dtc2, X_test, y_test)"
      ],
      "metadata": {
        "colab": {
          "base_uri": "https://localhost:8080/",
          "height": 351
        },
        "id": "Zw1uBSNe2YIx",
        "outputId": "7cd865a0-477c-493f-871e-6fdedf62df32"
      },
      "execution_count": 212,
      "outputs": [
        {
          "output_type": "stream",
          "name": "stderr",
          "text": [
            "/usr/local/lib/python3.8/dist-packages/sklearn/utils/deprecation.py:87: FutureWarning: Function plot_confusion_matrix is deprecated; Function `plot_confusion_matrix` is deprecated in 1.0 and will be removed in 1.2. Use one of the class methods: ConfusionMatrixDisplay.from_predictions or ConfusionMatrixDisplay.from_estimator.\n",
            "  warnings.warn(msg, category=FutureWarning)\n"
          ]
        },
        {
          "output_type": "execute_result",
          "data": {
            "text/plain": [
              "<sklearn.metrics._plot.confusion_matrix.ConfusionMatrixDisplay at 0x7efcd2a43a90>"
            ]
          },
          "metadata": {},
          "execution_count": 212
        },
        {
          "output_type": "display_data",
          "data": {
            "text/plain": [
              "<Figure size 432x288 with 2 Axes>"
            ],
            "image/png": "[encoded data removed]"
          },
          "metadata": {
            "needs_background": "light"
          }
        }
      ]
    },
    {
      "cell_type": "markdown",
      "source": [
        "**4.3) Grid Search Model**"
      ],
      "metadata": {
        "id": "fJiZW56JErX0"
      }
    },
    {
      "cell_type": "code",
      "source": [
        "from sklearn.model_selection import GridSearchCV, RandomizedSearchCV"
      ],
      "metadata": {
        "id": "veeRPMd72f0s"
      },
      "execution_count": 213,
      "outputs": []
    },
    {
      "cell_type": "code",
      "source": [
        "params = {'criterion': ['gini','entropy'], 'max_depth':[2,3,4,5,6,7,8,9,10,11,12,13,14,15,16,17]}"
      ],
      "metadata": {
        "id": "y2l_nIWH2g5E"
      },
      "execution_count": 214,
      "outputs": []
    },
    {
      "cell_type": "code",
      "source": [
        "clf = GridSearchCV(DecisionTreeClassifier(), params, cv = 5)"
      ],
      "metadata": {
        "id": "D-zfnOdb2oj2"
      },
      "execution_count": 215,
      "outputs": []
    },
    {
      "cell_type": "code",
      "source": [
        "clf.fit(X_train, y_train)"
      ],
      "metadata": {
        "colab": {
          "base_uri": "https://localhost:8080/"
        },
        "id": "TF_iiHZL2rl8",
        "outputId": "aa1ab547-52ca-4a95-b9d5-148e0efcc9f2"
      },
      "execution_count": 216,
      "outputs": [
        {
          "output_type": "execute_result",
          "data": {
            "text/plain": [
              "GridSearchCV(cv=5, estimator=DecisionTreeClassifier(),\n",
              "             param_grid={'criterion': ['gini', 'entropy'],\n",
              "                         'max_depth': [2, 3, 4, 5, 6, 7, 8, 9, 10, 11, 12, 13,\n",
              "                                       14, 15, 16, 17]})"
            ]
          },
          "metadata": {},
          "execution_count": 216
        }
      ]
    },
    {
      "cell_type": "code",
      "source": [
        "clf.best_params_"
      ],
      "metadata": {
        "colab": {
          "base_uri": "https://localhost:8080/"
        },
        "id": "U_4O7g8n2sYc",
        "outputId": "0c44ab92-360d-4b2a-a97b-311f77a004b9"
      },
      "execution_count": 217,
      "outputs": [
        {
          "output_type": "execute_result",
          "data": {
            "text/plain": [
              "{'criterion': 'entropy', 'max_depth': 15}"
            ]
          },
          "metadata": {},
          "execution_count": 217
        }
      ]
    },
    {
      "cell_type": "code",
      "source": [
        "clf.best_estimator_"
      ],
      "metadata": {
        "colab": {
          "base_uri": "https://localhost:8080/"
        },
        "id": "8UAAdeLB2uS-",
        "outputId": "c200d6c0-284d-4d5c-c727-b85c740a0db9"
      },
      "execution_count": 218,
      "outputs": [
        {
          "output_type": "execute_result",
          "data": {
            "text/plain": [
              "DecisionTreeClassifier(criterion='entropy', max_depth=15)"
            ]
          },
          "metadata": {},
          "execution_count": 218
        }
      ]
    },
    {
      "cell_type": "code",
      "source": [
        "clf.score(X_test, y_test)"
      ],
      "metadata": {
        "colab": {
          "base_uri": "https://localhost:8080/"
        },
        "id": "XgMjaQwJ20PY",
        "outputId": "99250a61-a140-4ae4-96f2-0c92dcce2287"
      },
      "execution_count": 219,
      "outputs": [
        {
          "output_type": "execute_result",
          "data": {
            "text/plain": [
              "0.75"
            ]
          },
          "metadata": {},
          "execution_count": 219
        }
      ]
    },
    {
      "cell_type": "code",
      "source": [
        "plot_confusion_matrix(clf, X_test, y_test)"
      ],
      "metadata": {
        "colab": {
          "base_uri": "https://localhost:8080/",
          "height": 351
        },
        "id": "37mRxs6Z3Pau",
        "outputId": "7f84dce8-3e7b-4a82-a6d0-3f557f2ce9a0"
      },
      "execution_count": 220,
      "outputs": [
        {
          "output_type": "stream",
          "name": "stderr",
          "text": [
            "/usr/local/lib/python3.8/dist-packages/sklearn/utils/deprecation.py:87: FutureWarning: Function plot_confusion_matrix is deprecated; Function `plot_confusion_matrix` is deprecated in 1.0 and will be removed in 1.2. Use one of the class methods: ConfusionMatrixDisplay.from_predictions or ConfusionMatrixDisplay.from_estimator.\n",
            "  warnings.warn(msg, category=FutureWarning)\n"
          ]
        },
        {
          "output_type": "execute_result",
          "data": {
            "text/plain": [
              "<sklearn.metrics._plot.confusion_matrix.ConfusionMatrixDisplay at 0x7efcd27849a0>"
            ]
          },
          "metadata": {},
          "execution_count": 220
        },
        {
          "output_type": "display_data",
          "data": {
            "text/plain": [
              "<Figure size 432x288 with 2 Axes>"
            ],
            "image/png": "[encoded data removed]"
          },
          "metadata": {
            "needs_background": "light"
          }
        }
      ]
    },
    {
      "cell_type": "markdown",
      "source": [
        "**4.4) Randomised Search Model**"
      ],
      "metadata": {
        "id": "bdl8y2QgEyBF"
      }
    },
    {
      "cell_type": "code",
      "source": [
        "params = {'criterion': ['gini','entropy'], 'max_depth':[2,3,4,5,6,7,8,9,10,11,12,13,14,15,16,17]}"
      ],
      "metadata": {
        "id": "ex3fuMO923zG"
      },
      "execution_count": 221,
      "outputs": []
    },
    {
      "cell_type": "code",
      "source": [
        "rscv = RandomizedSearchCV(DecisionTreeClassifier(), params, cv = 5, n_iter = 6)"
      ],
      "metadata": {
        "id": "Iz090zRe244L"
      },
      "execution_count": 222,
      "outputs": []
    },
    {
      "cell_type": "code",
      "source": [
        "rscv.fit(X_train, y_train)"
      ],
      "metadata": {
        "colab": {
          "base_uri": "https://localhost:8080/"
        },
        "id": "xyLaZj-U27mP",
        "outputId": "7c64aca5-930a-4554-aec9-98ff3823902e"
      },
      "execution_count": 223,
      "outputs": [
        {
          "output_type": "execute_result",
          "data": {
            "text/plain": [
              "RandomizedSearchCV(cv=5, estimator=DecisionTreeClassifier(), n_iter=6,\n",
              "                   param_distributions={'criterion': ['gini', 'entropy'],\n",
              "                                        'max_depth': [2, 3, 4, 5, 6, 7, 8, 9,\n",
              "                                                      10, 11, 12, 13, 14, 15,\n",
              "                                                      16, 17]})"
            ]
          },
          "metadata": {},
          "execution_count": 223
        }
      ]
    },
    {
      "cell_type": "code",
      "source": [
        "rscv.best_params_"
      ],
      "metadata": {
        "colab": {
          "base_uri": "https://localhost:8080/"
        },
        "id": "kY6rUnLc3A8P",
        "outputId": "82f1b655-a49d-47db-e296-e1de87a417d3"
      },
      "execution_count": 224,
      "outputs": [
        {
          "output_type": "execute_result",
          "data": {
            "text/plain": [
              "{'max_depth': 16, 'criterion': 'entropy'}"
            ]
          },
          "metadata": {},
          "execution_count": 224
        }
      ]
    },
    {
      "cell_type": "code",
      "source": [
        "rscv.score(X_test, y_test)"
      ],
      "metadata": {
        "colab": {
          "base_uri": "https://localhost:8080/"
        },
        "id": "QWycxv903B64",
        "outputId": "0385795e-f3fb-4443-ee3b-fe85e1ff2f42"
      },
      "execution_count": 225,
      "outputs": [
        {
          "output_type": "execute_result",
          "data": {
            "text/plain": [
              "0.7152777777777778"
            ]
          },
          "metadata": {},
          "execution_count": 225
        }
      ]
    },
    {
      "cell_type": "code",
      "source": [
        "plot_confusion_matrix(rscv, X_test, y_test)"
      ],
      "metadata": {
        "colab": {
          "base_uri": "https://localhost:8080/",
          "height": 355
        },
        "id": "GdHDQcWb3gRU",
        "outputId": "01848bd5-de35-4862-ad19-3c21599b9876"
      },
      "execution_count": 226,
      "outputs": [
        {
          "output_type": "stream",
          "name": "stderr",
          "text": [
            "/usr/local/lib/python3.8/dist-packages/sklearn/utils/deprecation.py:87: FutureWarning: Function plot_confusion_matrix is deprecated; Function `plot_confusion_matrix` is deprecated in 1.0 and will be removed in 1.2. Use one of the class methods: ConfusionMatrixDisplay.from_predictions or ConfusionMatrixDisplay.from_estimator.\n",
            "  warnings.warn(msg, category=FutureWarning)\n"
          ]
        },
        {
          "output_type": "execute_result",
          "data": {
            "text/plain": [
              "<sklearn.metrics._plot.confusion_matrix.ConfusionMatrixDisplay at 0x7efcd26dddf0>"
            ]
          },
          "metadata": {},
          "execution_count": 226
        },
        {
          "output_type": "display_data",
          "data": {
            "text/plain": [
              "<Figure size 432x288 with 2 Axes>"
            ],
            "image/png": "[encoded data removed]"
          },
          "metadata": {
            "needs_background": "light"
          }
        }
      ]
    },
    {
      "cell_type": "markdown",
      "source": [
        "**4.5) Random Forest Model**"
      ],
      "metadata": {
        "id": "wvS-gnNsE4E_"
      }
    },
    {
      "cell_type": "code",
      "source": [
        "from sklearn.ensemble import RandomForestClassifier"
      ],
      "metadata": {
        "id": "Qrj4KLJwA8TN"
      },
      "execution_count": 229,
      "outputs": []
    },
    {
      "cell_type": "code",
      "source": [
        "rfc = RandomForestClassifier(random_state = 0)"
      ],
      "metadata": {
        "id": "-Ttz8ynMA_Mi"
      },
      "execution_count": 230,
      "outputs": []
    },
    {
      "cell_type": "code",
      "source": [
        "rfc.fit(X_train, y_train)"
      ],
      "metadata": {
        "colab": {
          "base_uri": "https://localhost:8080/"
        },
        "id": "HkQuZPtjBEEV",
        "outputId": "8e41d8a9-cd94-4a57-a238-9f9886935bb2"
      },
      "execution_count": 231,
      "outputs": [
        {
          "output_type": "execute_result",
          "data": {
            "text/plain": [
              "RandomForestClassifier(random_state=0)"
            ]
          },
          "metadata": {},
          "execution_count": 231
        }
      ]
    },
    {
      "cell_type": "code",
      "source": [
        "rfc.score(X_test, y_test)"
      ],
      "metadata": {
        "colab": {
          "base_uri": "https://localhost:8080/"
        },
        "id": "IVwfXwdLBISC",
        "outputId": "fcbe2e9c-67ee-48a6-9a4f-d918b0dca9ff"
      },
      "execution_count": 233,
      "outputs": [
        {
          "output_type": "execute_result",
          "data": {
            "text/plain": [
              "0.7847222222222222"
            ]
          },
          "metadata": {},
          "execution_count": 233
        }
      ]
    },
    {
      "cell_type": "code",
      "source": [
        "plot_confusion_matrix(rfc, X_test, y_test)"
      ],
      "metadata": {
        "colab": {
          "base_uri": "https://localhost:8080/",
          "height": 351
        },
        "id": "DMI0HV8YBWxq",
        "outputId": "88168e7f-341c-4fa8-eaa9-f3f7f190c559"
      },
      "execution_count": 234,
      "outputs": [
        {
          "output_type": "stream",
          "name": "stderr",
          "text": [
            "/usr/local/lib/python3.8/dist-packages/sklearn/utils/deprecation.py:87: FutureWarning: Function plot_confusion_matrix is deprecated; Function `plot_confusion_matrix` is deprecated in 1.0 and will be removed in 1.2. Use one of the class methods: ConfusionMatrixDisplay.from_predictions or ConfusionMatrixDisplay.from_estimator.\n",
            "  warnings.warn(msg, category=FutureWarning)\n"
          ]
        },
        {
          "output_type": "execute_result",
          "data": {
            "text/plain": [
              "<sklearn.metrics._plot.confusion_matrix.ConfusionMatrixDisplay at 0x7efcd2aac1f0>"
            ]
          },
          "metadata": {},
          "execution_count": 234
        },
        {
          "output_type": "display_data",
          "data": {
            "text/plain": [
              "<Figure size 432x288 with 2 Axes>"
            ],
            "image/png": "[encoded data removed]"
          },
          "metadata": {
            "needs_background": "light"
          }
        }
      ]
    },
    {
      "cell_type": "markdown",
      "source": [
        "**4.6) Gradient Boosting Model**"
      ],
      "metadata": {
        "id": "T1Q2OgCUBiAz"
      }
    },
    {
      "cell_type": "code",
      "source": [
        "from sklearn.ensemble import GradientBoostingClassifier"
      ],
      "metadata": {
        "id": "kJ8xIuiCBieg"
      },
      "execution_count": 235,
      "outputs": []
    },
    {
      "cell_type": "code",
      "source": [
        "gbc = GradientBoostingClassifier(random_state = 0)"
      ],
      "metadata": {
        "id": "n6HqDfjgBjM3"
      },
      "execution_count": 236,
      "outputs": []
    },
    {
      "cell_type": "code",
      "source": [
        "gbc.fit(X_train, y_train)"
      ],
      "metadata": {
        "colab": {
          "base_uri": "https://localhost:8080/"
        },
        "id": "eWerXR0jBmuF",
        "outputId": "9cd39852-562c-471d-f169-60597ae387ce"
      },
      "execution_count": 237,
      "outputs": [
        {
          "output_type": "execute_result",
          "data": {
            "text/plain": [
              "GradientBoostingClassifier(random_state=0)"
            ]
          },
          "metadata": {},
          "execution_count": 237
        }
      ]
    },
    {
      "cell_type": "code",
      "source": [
        "gbc.score(X_test, y_test)"
      ],
      "metadata": {
        "colab": {
          "base_uri": "https://localhost:8080/"
        },
        "id": "D8tcl3nzBrmO",
        "outputId": "6c96140a-3b21-458e-d6f7-8c1d0ac0c815"
      },
      "execution_count": 238,
      "outputs": [
        {
          "output_type": "execute_result",
          "data": {
            "text/plain": [
              "0.8125"
            ]
          },
          "metadata": {},
          "execution_count": 238
        }
      ]
    },
    {
      "cell_type": "code",
      "source": [
        "plot_confusion_matrix(rfc, X_test, y_test)"
      ],
      "metadata": {
        "colab": {
          "base_uri": "https://localhost:8080/",
          "height": 351
        },
        "id": "hIFi8wYOBwdK",
        "outputId": "abb10ed0-d87f-4e32-80ad-667ea331a9fa"
      },
      "execution_count": 239,
      "outputs": [
        {
          "output_type": "stream",
          "name": "stderr",
          "text": [
            "/usr/local/lib/python3.8/dist-packages/sklearn/utils/deprecation.py:87: FutureWarning: Function plot_confusion_matrix is deprecated; Function `plot_confusion_matrix` is deprecated in 1.0 and will be removed in 1.2. Use one of the class methods: ConfusionMatrixDisplay.from_predictions or ConfusionMatrixDisplay.from_estimator.\n",
            "  warnings.warn(msg, category=FutureWarning)\n"
          ]
        },
        {
          "output_type": "execute_result",
          "data": {
            "text/plain": [
              "<sklearn.metrics._plot.confusion_matrix.ConfusionMatrixDisplay at 0x7efcd215eca0>"
            ]
          },
          "metadata": {},
          "execution_count": 239
        },
        {
          "output_type": "display_data",
          "data": {
            "text/plain": [
              "<Figure size 432x288 with 2 Axes>"
            ],
            "image/png": "[encoded data removed]"
          },
          "metadata": {
            "needs_background": "light"
          }
        }
      ]
    },
    {
      "cell_type": "markdown",
      "source": [
        "Final Model = Gradient Boosting Model as it is giving good accuracy and good confusion matrix visualization"
      ],
      "metadata": {
        "id": "MOHqacI5FBre"
      }
    }
  ]
}